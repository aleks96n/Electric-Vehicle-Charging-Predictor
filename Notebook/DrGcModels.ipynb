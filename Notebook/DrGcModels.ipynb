{
  "nbformat": 4,
  "nbformat_minor": 0,
  "metadata": {
    "colab": {
      "name": "Almost there",
      "provenance": [],
      "collapsed_sections": [],
      "toc_visible": true
    },
    "kernelspec": {
      "name": "python3",
      "display_name": "Python 3"
    },
    "accelerator": "GPU"
  },
  "cells": [
    {
      "cell_type": "code",
      "metadata": {
        "id": "xgdy6A9gBkEb"
      },
      "source": [
        "# A bit of setup\n",
        "import matplotlib.pyplot as plt\n",
        "from google.colab import files\n",
        "from urllib.request import urlopen\n",
        "import random\n",
        "import numpy as np\n",
        "import sympy \n",
        "import pandas as pd\n",
        "from keras.models import Sequential\n",
        "from keras.layers import Dense\n",
        "from sklearn.model_selection import train_test_split\n",
        "from sklearn.linear_model import LinearRegression\n",
        "from keras.layers import LSTM,Dropout,Dense\n",
        "import sklearn.metrics as sm\n",
        "from keras.models import model_from_json\n",
        "from sklearn.preprocessing import PolynomialFeatures\n",
        "import tensorflow as tf\n",
        "from tensorflow import keras\n",
        "from tensorflow.keras import layers\n",
        "from keras.layers import SimpleRNN,LSTM, Dense, Dropout, Masking, Embedding\n",
        "from sklearn.ensemble import GradientBoostingClassifier\n",
        "import xgboost as xgb\n",
        "from sklearn import preprocessing"
      ],
      "execution_count": null,
      "outputs": []
    },
    {
      "cell_type": "code",
      "metadata": {
        "id": "BQf2u39nCfZp"
      },
      "source": [
        "sc = preprocessing.MinMaxScaler()"
      ],
      "execution_count": null,
      "outputs": []
    },
    {
      "cell_type": "markdown",
      "metadata": {
        "id": "AcPAteiEdkTU"
      },
      "source": [
        "# Importing and Normilizing data\r\n",
        "\r\n",
        "\r\n"
      ]
    },
    {
      "cell_type": "code",
      "metadata": {
        "id": "gEf5Zl2KR_ah",
        "colab": {
          "base_uri": "https://localhost:8080/",
          "height": 173
        },
        "outputId": "f761e79d-3f65-40d4-ef20-da6d90b4b9a8"
      },
      "source": [
        "file_name = \"ev_models.csv\"\n",
        "model_df = pd.read_csv(file_name, sep=\",\")\n",
        "model_df = model_df.rename(columns={'Unnamed: 0': 'model_id', 'models': 'model'})\n",
        "model_df.head()"
      ],
      "execution_count": null,
      "outputs": [
        {
          "output_type": "execute_result",
          "data": {
            "text/html": [
              "<div>\n",
              "<style scoped>\n",
              "    .dataframe tbody tr th:only-of-type {\n",
              "        vertical-align: middle;\n",
              "    }\n",
              "\n",
              "    .dataframe tbody tr th {\n",
              "        vertical-align: top;\n",
              "    }\n",
              "\n",
              "    .dataframe thead th {\n",
              "        text-align: right;\n",
              "    }\n",
              "</style>\n",
              "<table border=\"1\" class=\"dataframe\">\n",
              "  <thead>\n",
              "    <tr style=\"text-align: right;\">\n",
              "      <th></th>\n",
              "      <th>model_id</th>\n",
              "      <th>model</th>\n",
              "      <th>battery_size</th>\n",
              "      <th>charge_power</th>\n",
              "      <th>efficiency</th>\n",
              "    </tr>\n",
              "  </thead>\n",
              "  <tbody>\n",
              "    <tr>\n",
              "      <th>0</th>\n",
              "      <td>0</td>\n",
              "      <td>Tesla Model S</td>\n",
              "      <td>72.5</td>\n",
              "      <td>16.5</td>\n",
              "      <td>0.175</td>\n",
              "    </tr>\n",
              "    <tr>\n",
              "      <th>1</th>\n",
              "      <td>1</td>\n",
              "      <td>Nissan Leaf e+</td>\n",
              "      <td>56.0</td>\n",
              "      <td>6.6</td>\n",
              "      <td>0.172</td>\n",
              "    </tr>\n",
              "    <tr>\n",
              "      <th>2</th>\n",
              "      <td>2</td>\n",
              "      <td>Renault Zoe</td>\n",
              "      <td>41.0</td>\n",
              "      <td>22.0</td>\n",
              "      <td>0.164</td>\n",
              "    </tr>\n",
              "    <tr>\n",
              "      <th>3</th>\n",
              "      <td>3</td>\n",
              "      <td>Volkswagen ID.3</td>\n",
              "      <td>45.0</td>\n",
              "      <td>7.2</td>\n",
              "      <td>0.161</td>\n",
              "    </tr>\n",
              "  </tbody>\n",
              "</table>\n",
              "</div>"
            ],
            "text/plain": [
              "   model_id            model  battery_size  charge_power  efficiency\n",
              "0         0    Tesla Model S          72.5          16.5       0.175\n",
              "1         1   Nissan Leaf e+          56.0           6.6       0.172\n",
              "2         2      Renault Zoe          41.0          22.0       0.164\n",
              "3         3  Volkswagen ID.3          45.0           7.2       0.161"
            ]
          },
          "metadata": {
            "tags": []
          },
          "execution_count": 95
        }
      ]
    },
    {
      "cell_type": "code",
      "metadata": {
        "id": "SKgNfI1HSF2A",
        "colab": {
          "base_uri": "https://localhost:8080/"
        },
        "outputId": "f4f7e4e4-33a6-4926-e18e-779e9b6f09bb"
      },
      "source": [
        "model_df.info()"
      ],
      "execution_count": null,
      "outputs": [
        {
          "output_type": "stream",
          "text": [
            "<class 'pandas.core.frame.DataFrame'>\n",
            "RangeIndex: 4 entries, 0 to 3\n",
            "Data columns (total 5 columns):\n",
            " #   Column        Non-Null Count  Dtype  \n",
            "---  ------        --------------  -----  \n",
            " 0   model_id      4 non-null      int64  \n",
            " 1   model         4 non-null      object \n",
            " 2   battery_size  4 non-null      float64\n",
            " 3   charge_power  4 non-null      float64\n",
            " 4   efficiency    4 non-null      float64\n",
            "dtypes: float64(3), int64(1), object(1)\n",
            "memory usage: 288.0+ bytes\n"
          ],
          "name": "stdout"
        }
      ]
    },
    {
      "cell_type": "code",
      "metadata": {
        "id": "TzCkhMitSI0P",
        "colab": {
          "base_uri": "https://localhost:8080/",
          "height": 297
        },
        "outputId": "d864100c-90f8-40d5-f83a-8d466ece38c9"
      },
      "source": [
        "model_df.describe()"
      ],
      "execution_count": null,
      "outputs": [
        {
          "output_type": "execute_result",
          "data": {
            "text/html": [
              "<div>\n",
              "<style scoped>\n",
              "    .dataframe tbody tr th:only-of-type {\n",
              "        vertical-align: middle;\n",
              "    }\n",
              "\n",
              "    .dataframe tbody tr th {\n",
              "        vertical-align: top;\n",
              "    }\n",
              "\n",
              "    .dataframe thead th {\n",
              "        text-align: right;\n",
              "    }\n",
              "</style>\n",
              "<table border=\"1\" class=\"dataframe\">\n",
              "  <thead>\n",
              "    <tr style=\"text-align: right;\">\n",
              "      <th></th>\n",
              "      <th>model_id</th>\n",
              "      <th>battery_size</th>\n",
              "      <th>charge_power</th>\n",
              "      <th>efficiency</th>\n",
              "    </tr>\n",
              "  </thead>\n",
              "  <tbody>\n",
              "    <tr>\n",
              "      <th>count</th>\n",
              "      <td>4.000000</td>\n",
              "      <td>4.000000</td>\n",
              "      <td>4.000000</td>\n",
              "      <td>4.000000</td>\n",
              "    </tr>\n",
              "    <tr>\n",
              "      <th>mean</th>\n",
              "      <td>1.500000</td>\n",
              "      <td>53.625000</td>\n",
              "      <td>13.075000</td>\n",
              "      <td>0.168000</td>\n",
              "    </tr>\n",
              "    <tr>\n",
              "      <th>std</th>\n",
              "      <td>1.290994</td>\n",
              "      <td>14.091221</td>\n",
              "      <td>7.479472</td>\n",
              "      <td>0.006583</td>\n",
              "    </tr>\n",
              "    <tr>\n",
              "      <th>min</th>\n",
              "      <td>0.000000</td>\n",
              "      <td>41.000000</td>\n",
              "      <td>6.600000</td>\n",
              "      <td>0.161000</td>\n",
              "    </tr>\n",
              "    <tr>\n",
              "      <th>25%</th>\n",
              "      <td>0.750000</td>\n",
              "      <td>44.000000</td>\n",
              "      <td>7.050000</td>\n",
              "      <td>0.163250</td>\n",
              "    </tr>\n",
              "    <tr>\n",
              "      <th>50%</th>\n",
              "      <td>1.500000</td>\n",
              "      <td>50.500000</td>\n",
              "      <td>11.850000</td>\n",
              "      <td>0.168000</td>\n",
              "    </tr>\n",
              "    <tr>\n",
              "      <th>75%</th>\n",
              "      <td>2.250000</td>\n",
              "      <td>60.125000</td>\n",
              "      <td>17.875000</td>\n",
              "      <td>0.172750</td>\n",
              "    </tr>\n",
              "    <tr>\n",
              "      <th>max</th>\n",
              "      <td>3.000000</td>\n",
              "      <td>72.500000</td>\n",
              "      <td>22.000000</td>\n",
              "      <td>0.175000</td>\n",
              "    </tr>\n",
              "  </tbody>\n",
              "</table>\n",
              "</div>"
            ],
            "text/plain": [
              "       model_id  battery_size  charge_power  efficiency\n",
              "count  4.000000      4.000000      4.000000    4.000000\n",
              "mean   1.500000     53.625000     13.075000    0.168000\n",
              "std    1.290994     14.091221      7.479472    0.006583\n",
              "min    0.000000     41.000000      6.600000    0.161000\n",
              "25%    0.750000     44.000000      7.050000    0.163250\n",
              "50%    1.500000     50.500000     11.850000    0.168000\n",
              "75%    2.250000     60.125000     17.875000    0.172750\n",
              "max    3.000000     72.500000     22.000000    0.175000"
            ]
          },
          "metadata": {
            "tags": []
          },
          "execution_count": 97
        }
      ]
    },
    {
      "cell_type": "code",
      "metadata": {
        "id": "me-wcTDqSKV2",
        "colab": {
          "base_uri": "https://localhost:8080/",
          "height": 204
        },
        "outputId": "8f038c98-a479-4ff7-e0d5-5f50798474dc"
      },
      "source": [
        "file_name = \"ev_home_locations.csv\"\n",
        "home_location_df = pd.read_csv(file_name, sep=\",\")\n",
        "home_location_df = home_location_df.rename(columns={'Unnamed: 0': 'id'})\n",
        "home_location_df.head()"
      ],
      "execution_count": null,
      "outputs": [
        {
          "output_type": "execute_result",
          "data": {
            "text/html": [
              "<div>\n",
              "<style scoped>\n",
              "    .dataframe tbody tr th:only-of-type {\n",
              "        vertical-align: middle;\n",
              "    }\n",
              "\n",
              "    .dataframe tbody tr th {\n",
              "        vertical-align: top;\n",
              "    }\n",
              "\n",
              "    .dataframe thead th {\n",
              "        text-align: right;\n",
              "    }\n",
              "</style>\n",
              "<table border=\"1\" class=\"dataframe\">\n",
              "  <thead>\n",
              "    <tr style=\"text-align: right;\">\n",
              "      <th></th>\n",
              "      <th>id</th>\n",
              "      <th>address</th>\n",
              "      <th>cadaster</th>\n",
              "      <th>latitude</th>\n",
              "      <th>longitude</th>\n",
              "      <th>x</th>\n",
              "      <th>y</th>\n",
              "    </tr>\n",
              "  </thead>\n",
              "  <tbody>\n",
              "    <tr>\n",
              "      <th>0</th>\n",
              "      <td>0</td>\n",
              "      <td>1, Kvissentali põik, Ülejõe, Tartu linn, Tartu...</td>\n",
              "      <td>79514:037:0033</td>\n",
              "      <td>58.406210</td>\n",
              "      <td>26.706300</td>\n",
              "      <td>6477173.28</td>\n",
              "      <td>658139.66</td>\n",
              "    </tr>\n",
              "    <tr>\n",
              "      <th>1</th>\n",
              "      <td>1</td>\n",
              "      <td>28b/1, Orava, Raadi-Kruusamäe, Tartu linn, Tar...</td>\n",
              "      <td>79512:036:0020</td>\n",
              "      <td>58.389311</td>\n",
              "      <td>26.737114</td>\n",
              "      <td>6475347.92</td>\n",
              "      <td>660042.39</td>\n",
              "    </tr>\n",
              "    <tr>\n",
              "      <th>2</th>\n",
              "      <td>2</td>\n",
              "      <td>16, Alevi, Karlova, Tartu linn, Tartu, Tartu l...</td>\n",
              "      <td>79508:016:0001</td>\n",
              "      <td>58.362547</td>\n",
              "      <td>26.726161</td>\n",
              "      <td>6472365.82</td>\n",
              "      <td>659521.12</td>\n",
              "    </tr>\n",
              "    <tr>\n",
              "      <th>3</th>\n",
              "      <td>3</td>\n",
              "      <td>37, Voolu, Variku, Tartu linn, Tartu, Tartu li...</td>\n",
              "      <td>79509:019:0003</td>\n",
              "      <td>58.346618</td>\n",
              "      <td>26.702650</td>\n",
              "      <td>6470513.21</td>\n",
              "      <td>658227.79</td>\n",
              "    </tr>\n",
              "    <tr>\n",
              "      <th>4</th>\n",
              "      <td>4</td>\n",
              "      <td>12, Ilmatsalu, Veeriku, Tartu linn, Tartu, Tar...</td>\n",
              "      <td>79502:006:0095</td>\n",
              "      <td>58.375785</td>\n",
              "      <td>26.690146</td>\n",
              "      <td>6473716.85</td>\n",
              "      <td>657353.49</td>\n",
              "    </tr>\n",
              "  </tbody>\n",
              "</table>\n",
              "</div>"
            ],
            "text/plain": [
              "   id                                            address  ...           x          y\n",
              "0   0  1, Kvissentali põik, Ülejõe, Tartu linn, Tartu...  ...  6477173.28  658139.66\n",
              "1   1  28b/1, Orava, Raadi-Kruusamäe, Tartu linn, Tar...  ...  6475347.92  660042.39\n",
              "2   2  16, Alevi, Karlova, Tartu linn, Tartu, Tartu l...  ...  6472365.82  659521.12\n",
              "3   3  37, Voolu, Variku, Tartu linn, Tartu, Tartu li...  ...  6470513.21  658227.79\n",
              "4   4  12, Ilmatsalu, Veeriku, Tartu linn, Tartu, Tar...  ...  6473716.85  657353.49\n",
              "\n",
              "[5 rows x 7 columns]"
            ]
          },
          "metadata": {
            "tags": []
          },
          "execution_count": 98
        }
      ]
    },
    {
      "cell_type": "code",
      "metadata": {
        "id": "WROm53RnSNiM",
        "colab": {
          "base_uri": "https://localhost:8080/"
        },
        "outputId": "d7131811-3a2f-46cd-b2a6-afecf4023ca6"
      },
      "source": [
        "home_location_df.info()"
      ],
      "execution_count": null,
      "outputs": [
        {
          "output_type": "stream",
          "text": [
            "<class 'pandas.core.frame.DataFrame'>\n",
            "RangeIndex: 100 entries, 0 to 99\n",
            "Data columns (total 7 columns):\n",
            " #   Column     Non-Null Count  Dtype  \n",
            "---  ------     --------------  -----  \n",
            " 0   id         100 non-null    int64  \n",
            " 1   address    100 non-null    object \n",
            " 2   cadaster   100 non-null    object \n",
            " 3   latitude   100 non-null    float64\n",
            " 4   longitude  100 non-null    float64\n",
            " 5   x          100 non-null    float64\n",
            " 6   y          100 non-null    float64\n",
            "dtypes: float64(4), int64(1), object(2)\n",
            "memory usage: 5.6+ KB\n"
          ],
          "name": "stdout"
        }
      ]
    },
    {
      "cell_type": "code",
      "metadata": {
        "id": "ZHGNZx2mSPkm",
        "colab": {
          "base_uri": "https://localhost:8080/",
          "height": 297
        },
        "outputId": "f1999f7a-4241-4f37-e1a3-78d9542061b4"
      },
      "source": [
        "home_location_df.describe()"
      ],
      "execution_count": null,
      "outputs": [
        {
          "output_type": "execute_result",
          "data": {
            "text/html": [
              "<div>\n",
              "<style scoped>\n",
              "    .dataframe tbody tr th:only-of-type {\n",
              "        vertical-align: middle;\n",
              "    }\n",
              "\n",
              "    .dataframe tbody tr th {\n",
              "        vertical-align: top;\n",
              "    }\n",
              "\n",
              "    .dataframe thead th {\n",
              "        text-align: right;\n",
              "    }\n",
              "</style>\n",
              "<table border=\"1\" class=\"dataframe\">\n",
              "  <thead>\n",
              "    <tr style=\"text-align: right;\">\n",
              "      <th></th>\n",
              "      <th>id</th>\n",
              "      <th>latitude</th>\n",
              "      <th>longitude</th>\n",
              "      <th>x</th>\n",
              "      <th>y</th>\n",
              "    </tr>\n",
              "  </thead>\n",
              "  <tbody>\n",
              "    <tr>\n",
              "      <th>count</th>\n",
              "      <td>100.000000</td>\n",
              "      <td>100.000000</td>\n",
              "      <td>100.000000</td>\n",
              "      <td>1.000000e+02</td>\n",
              "      <td>100.000000</td>\n",
              "    </tr>\n",
              "    <tr>\n",
              "      <th>mean</th>\n",
              "      <td>49.500000</td>\n",
              "      <td>58.369974</td>\n",
              "      <td>26.723026</td>\n",
              "      <td>6.473175e+06</td>\n",
              "      <td>659302.849700</td>\n",
              "    </tr>\n",
              "    <tr>\n",
              "      <th>std</th>\n",
              "      <td>29.011492</td>\n",
              "      <td>0.015366</td>\n",
              "      <td>0.028521</td>\n",
              "      <td>1.700388e+03</td>\n",
              "      <td>1677.847126</td>\n",
              "    </tr>\n",
              "    <tr>\n",
              "      <th>min</th>\n",
              "      <td>0.000000</td>\n",
              "      <td>58.343825</td>\n",
              "      <td>26.680755</td>\n",
              "      <td>6.470413e+06</td>\n",
              "      <td>656857.930000</td>\n",
              "    </tr>\n",
              "    <tr>\n",
              "      <th>25%</th>\n",
              "      <td>24.750000</td>\n",
              "      <td>58.358987</td>\n",
              "      <td>26.700887</td>\n",
              "      <td>6.472002e+06</td>\n",
              "      <td>658064.732500</td>\n",
              "    </tr>\n",
              "    <tr>\n",
              "      <th>50%</th>\n",
              "      <td>49.500000</td>\n",
              "      <td>58.370324</td>\n",
              "      <td>26.717327</td>\n",
              "      <td>6.473129e+06</td>\n",
              "      <td>658901.840000</td>\n",
              "    </tr>\n",
              "    <tr>\n",
              "      <th>75%</th>\n",
              "      <td>74.250000</td>\n",
              "      <td>58.380684</td>\n",
              "      <td>26.736425</td>\n",
              "      <td>6.474453e+06</td>\n",
              "      <td>660049.050000</td>\n",
              "    </tr>\n",
              "    <tr>\n",
              "      <th>max</th>\n",
              "      <td>99.000000</td>\n",
              "      <td>58.406210</td>\n",
              "      <td>26.792473</td>\n",
              "      <td>6.477173e+06</td>\n",
              "      <td>663411.450000</td>\n",
              "    </tr>\n",
              "  </tbody>\n",
              "</table>\n",
              "</div>"
            ],
            "text/plain": [
              "               id    latitude   longitude             x              y\n",
              "count  100.000000  100.000000  100.000000  1.000000e+02     100.000000\n",
              "mean    49.500000   58.369974   26.723026  6.473175e+06  659302.849700\n",
              "std     29.011492    0.015366    0.028521  1.700388e+03    1677.847126\n",
              "min      0.000000   58.343825   26.680755  6.470413e+06  656857.930000\n",
              "25%     24.750000   58.358987   26.700887  6.472002e+06  658064.732500\n",
              "50%     49.500000   58.370324   26.717327  6.473129e+06  658901.840000\n",
              "75%     74.250000   58.380684   26.736425  6.474453e+06  660049.050000\n",
              "max     99.000000   58.406210   26.792473  6.477173e+06  663411.450000"
            ]
          },
          "metadata": {
            "tags": []
          },
          "execution_count": 100
        }
      ]
    },
    {
      "cell_type": "code",
      "metadata": {
        "id": "qTvO5AfsSSwJ"
      },
      "source": [
        "file_name = \"ev_long_history.csv\"\n",
        "long_history_df = pd.read_csv(file_name, sep=\",\")\n",
        "long_history_df = long_history_df.rename(columns={'Unnamed: 0': 'id'})\n",
        "pd.set_option('display.max_rows', None)\n",
        "#long_history_df[:500]"
      ],
      "execution_count": null,
      "outputs": []
    },
    {
      "cell_type": "code",
      "metadata": {
        "id": "I95XMopCSVos",
        "colab": {
          "base_uri": "https://localhost:8080/"
        },
        "outputId": "5dc61051-13ff-4ae1-d707-b617e99911d0"
      },
      "source": [
        "long_history_df.info()"
      ],
      "execution_count": null,
      "outputs": [
        {
          "output_type": "stream",
          "text": [
            "<class 'pandas.core.frame.DataFrame'>\n",
            "RangeIndex: 72000 entries, 0 to 71999\n",
            "Data columns (total 8 columns):\n",
            " #   Column     Non-Null Count  Dtype  \n",
            "---  ------     --------------  -----  \n",
            " 0   id         72000 non-null  int64  \n",
            " 1   time       72000 non-null  int64  \n",
            " 2   model      72000 non-null  object \n",
            " 3   connected  72000 non-null  bool   \n",
            " 4   soc        72000 non-null  float64\n",
            " 5   days       72000 non-null  int64  \n",
            " 6   cadaster   72000 non-null  object \n",
            " 7   ev_id      72000 non-null  int64  \n",
            "dtypes: bool(1), float64(1), int64(4), object(2)\n",
            "memory usage: 3.9+ MB\n"
          ],
          "name": "stdout"
        }
      ]
    },
    {
      "cell_type": "code",
      "metadata": {
        "id": "rHVZi5npSXen",
        "colab": {
          "base_uri": "https://localhost:8080/",
          "height": 297
        },
        "outputId": "ed8981eb-ef75-4c83-8d96-82933d84c000"
      },
      "source": [
        "long_history_df.describe()"
      ],
      "execution_count": null,
      "outputs": [
        {
          "output_type": "execute_result",
          "data": {
            "text/html": [
              "<div>\n",
              "<style scoped>\n",
              "    .dataframe tbody tr th:only-of-type {\n",
              "        vertical-align: middle;\n",
              "    }\n",
              "\n",
              "    .dataframe tbody tr th {\n",
              "        vertical-align: top;\n",
              "    }\n",
              "\n",
              "    .dataframe thead th {\n",
              "        text-align: right;\n",
              "    }\n",
              "</style>\n",
              "<table border=\"1\" class=\"dataframe\">\n",
              "  <thead>\n",
              "    <tr style=\"text-align: right;\">\n",
              "      <th></th>\n",
              "      <th>id</th>\n",
              "      <th>time</th>\n",
              "      <th>soc</th>\n",
              "      <th>days</th>\n",
              "      <th>ev_id</th>\n",
              "    </tr>\n",
              "  </thead>\n",
              "  <tbody>\n",
              "    <tr>\n",
              "      <th>count</th>\n",
              "      <td>72000.00000</td>\n",
              "      <td>72000.000000</td>\n",
              "      <td>72000.000000</td>\n",
              "      <td>72000.000000</td>\n",
              "      <td>72000.000000</td>\n",
              "    </tr>\n",
              "    <tr>\n",
              "      <th>mean</th>\n",
              "      <td>359.50000</td>\n",
              "      <td>12.500000</td>\n",
              "      <td>47.058425</td>\n",
              "      <td>15.500000</td>\n",
              "      <td>49.500000</td>\n",
              "    </tr>\n",
              "    <tr>\n",
              "      <th>std</th>\n",
              "      <td>207.84734</td>\n",
              "      <td>6.922235</td>\n",
              "      <td>15.953412</td>\n",
              "      <td>8.655502</td>\n",
              "      <td>28.866271</td>\n",
              "    </tr>\n",
              "    <tr>\n",
              "      <th>min</th>\n",
              "      <td>0.00000</td>\n",
              "      <td>1.000000</td>\n",
              "      <td>0.000000</td>\n",
              "      <td>1.000000</td>\n",
              "      <td>0.000000</td>\n",
              "    </tr>\n",
              "    <tr>\n",
              "      <th>25%</th>\n",
              "      <td>179.75000</td>\n",
              "      <td>6.750000</td>\n",
              "      <td>39.402184</td>\n",
              "      <td>8.000000</td>\n",
              "      <td>24.750000</td>\n",
              "    </tr>\n",
              "    <tr>\n",
              "      <th>50%</th>\n",
              "      <td>359.50000</td>\n",
              "      <td>12.500000</td>\n",
              "      <td>45.000000</td>\n",
              "      <td>15.500000</td>\n",
              "      <td>49.500000</td>\n",
              "    </tr>\n",
              "    <tr>\n",
              "      <th>75%</th>\n",
              "      <td>539.25000</td>\n",
              "      <td>18.250000</td>\n",
              "      <td>56.000000</td>\n",
              "      <td>23.000000</td>\n",
              "      <td>74.250000</td>\n",
              "    </tr>\n",
              "    <tr>\n",
              "      <th>max</th>\n",
              "      <td>719.00000</td>\n",
              "      <td>24.000000</td>\n",
              "      <td>72.500000</td>\n",
              "      <td>30.000000</td>\n",
              "      <td>99.000000</td>\n",
              "    </tr>\n",
              "  </tbody>\n",
              "</table>\n",
              "</div>"
            ],
            "text/plain": [
              "                id          time           soc          days         ev_id\n",
              "count  72000.00000  72000.000000  72000.000000  72000.000000  72000.000000\n",
              "mean     359.50000     12.500000     47.058425     15.500000     49.500000\n",
              "std      207.84734      6.922235     15.953412      8.655502     28.866271\n",
              "min        0.00000      1.000000      0.000000      1.000000      0.000000\n",
              "25%      179.75000      6.750000     39.402184      8.000000     24.750000\n",
              "50%      359.50000     12.500000     45.000000     15.500000     49.500000\n",
              "75%      539.25000     18.250000     56.000000     23.000000     74.250000\n",
              "max      719.00000     24.000000     72.500000     30.000000     99.000000"
            ]
          },
          "metadata": {
            "tags": []
          },
          "execution_count": 103
        }
      ]
    },
    {
      "cell_type": "code",
      "metadata": {
        "id": "kzkhiei4SYtO",
        "colab": {
          "base_uri": "https://localhost:8080/",
          "height": 204
        },
        "outputId": "926b2c45-f459-4a45-e93f-d69e48d0993e"
      },
      "source": [
        "file_name = \"public_chargers_locations.csv\"\n",
        "public_charger_location_df = pd.read_csv(file_name, sep=\",\")\n",
        "public_charger_location_df = public_charger_location_df.rename(columns={'Unnamed: 0': 'id'})\n",
        "public_charger_location_df.head()"
      ],
      "execution_count": null,
      "outputs": [
        {
          "output_type": "execute_result",
          "data": {
            "text/html": [
              "<div>\n",
              "<style scoped>\n",
              "    .dataframe tbody tr th:only-of-type {\n",
              "        vertical-align: middle;\n",
              "    }\n",
              "\n",
              "    .dataframe tbody tr th {\n",
              "        vertical-align: top;\n",
              "    }\n",
              "\n",
              "    .dataframe thead th {\n",
              "        text-align: right;\n",
              "    }\n",
              "</style>\n",
              "<table border=\"1\" class=\"dataframe\">\n",
              "  <thead>\n",
              "    <tr style=\"text-align: right;\">\n",
              "      <th></th>\n",
              "      <th>id</th>\n",
              "      <th>address</th>\n",
              "      <th>cadaster</th>\n",
              "      <th>latitude</th>\n",
              "      <th>longitude</th>\n",
              "      <th>x</th>\n",
              "      <th>y</th>\n",
              "    </tr>\n",
              "  </thead>\n",
              "  <tbody>\n",
              "    <tr>\n",
              "      <th>0</th>\n",
              "      <td>0</td>\n",
              "      <td>78, Tiigi, Kesklinn, Tartu linn, Tartu, Tartu ...</td>\n",
              "      <td>79506:006:0001</td>\n",
              "      <td>58.373603</td>\n",
              "      <td>26.710675</td>\n",
              "      <td>6473552.48</td>\n",
              "      <td>658596.39</td>\n",
              "    </tr>\n",
              "    <tr>\n",
              "      <th>1</th>\n",
              "      <td>1</td>\n",
              "      <td>30, Veski, Kesklinn, Tartu linn, Tartu, Tartu ...</td>\n",
              "      <td>79507:021:0003</td>\n",
              "      <td>58.378190</td>\n",
              "      <td>26.711309</td>\n",
              "      <td>6474073.17</td>\n",
              "      <td>658582.03</td>\n",
              "    </tr>\n",
              "    <tr>\n",
              "      <th>2</th>\n",
              "      <td>2</td>\n",
              "      <td>Heino Elleri nimeline Tartu Muusikakool, 15, L...</td>\n",
              "      <td>79507:019:0002</td>\n",
              "      <td>58.380050</td>\n",
              "      <td>26.717865</td>\n",
              "      <td>6474277.29</td>\n",
              "      <td>658997.44</td>\n",
              "    </tr>\n",
              "    <tr>\n",
              "      <th>3</th>\n",
              "      <td>3</td>\n",
              "      <td>20A, Sepa, Ropka tööstusrajoon, Tartu linn, Ta...</td>\n",
              "      <td>79511:002:0027</td>\n",
              "      <td>58.350656</td>\n",
              "      <td>26.729897</td>\n",
              "      <td>6471029.11</td>\n",
              "      <td>659793.82</td>\n",
              "    </tr>\n",
              "    <tr>\n",
              "      <th>4</th>\n",
              "      <td>4</td>\n",
              "      <td>7, Tamme põik, Tammelinn, Tartu linn, Tartu, T...</td>\n",
              "      <td>79504:053:0019</td>\n",
              "      <td>58.357376</td>\n",
              "      <td>26.695822</td>\n",
              "      <td>6471706.87</td>\n",
              "      <td>657778.20</td>\n",
              "    </tr>\n",
              "  </tbody>\n",
              "</table>\n",
              "</div>"
            ],
            "text/plain": [
              "   id                                            address  ...           x          y\n",
              "0   0  78, Tiigi, Kesklinn, Tartu linn, Tartu, Tartu ...  ...  6473552.48  658596.39\n",
              "1   1  30, Veski, Kesklinn, Tartu linn, Tartu, Tartu ...  ...  6474073.17  658582.03\n",
              "2   2  Heino Elleri nimeline Tartu Muusikakool, 15, L...  ...  6474277.29  658997.44\n",
              "3   3  20A, Sepa, Ropka tööstusrajoon, Tartu linn, Ta...  ...  6471029.11  659793.82\n",
              "4   4  7, Tamme põik, Tammelinn, Tartu linn, Tartu, T...  ...  6471706.87  657778.20\n",
              "\n",
              "[5 rows x 7 columns]"
            ]
          },
          "metadata": {
            "tags": []
          },
          "execution_count": 104
        }
      ]
    },
    {
      "cell_type": "code",
      "metadata": {
        "id": "XIM2j5bcSbV_",
        "colab": {
          "base_uri": "https://localhost:8080/"
        },
        "outputId": "49e972dc-5d34-45d8-e3ba-94ca602572e4"
      },
      "source": [
        "public_charger_location_df.info()"
      ],
      "execution_count": null,
      "outputs": [
        {
          "output_type": "stream",
          "text": [
            "<class 'pandas.core.frame.DataFrame'>\n",
            "RangeIndex: 50 entries, 0 to 49\n",
            "Data columns (total 7 columns):\n",
            " #   Column     Non-Null Count  Dtype  \n",
            "---  ------     --------------  -----  \n",
            " 0   id         50 non-null     int64  \n",
            " 1   address    50 non-null     object \n",
            " 2   cadaster   50 non-null     object \n",
            " 3   latitude   50 non-null     float64\n",
            " 4   longitude  50 non-null     float64\n",
            " 5   x          50 non-null     float64\n",
            " 6   y          50 non-null     float64\n",
            "dtypes: float64(4), int64(1), object(2)\n",
            "memory usage: 2.9+ KB\n"
          ],
          "name": "stdout"
        }
      ]
    },
    {
      "cell_type": "code",
      "metadata": {
        "id": "Mea6waDbSc77",
        "colab": {
          "base_uri": "https://localhost:8080/",
          "height": 297
        },
        "outputId": "bd6122ef-39b5-49a3-ade7-6241e084b6f8"
      },
      "source": [
        "public_charger_location_df.describe()"
      ],
      "execution_count": null,
      "outputs": [
        {
          "output_type": "execute_result",
          "data": {
            "text/html": [
              "<div>\n",
              "<style scoped>\n",
              "    .dataframe tbody tr th:only-of-type {\n",
              "        vertical-align: middle;\n",
              "    }\n",
              "\n",
              "    .dataframe tbody tr th {\n",
              "        vertical-align: top;\n",
              "    }\n",
              "\n",
              "    .dataframe thead th {\n",
              "        text-align: right;\n",
              "    }\n",
              "</style>\n",
              "<table border=\"1\" class=\"dataframe\">\n",
              "  <thead>\n",
              "    <tr style=\"text-align: right;\">\n",
              "      <th></th>\n",
              "      <th>id</th>\n",
              "      <th>latitude</th>\n",
              "      <th>longitude</th>\n",
              "      <th>x</th>\n",
              "      <th>y</th>\n",
              "    </tr>\n",
              "  </thead>\n",
              "  <tbody>\n",
              "    <tr>\n",
              "      <th>count</th>\n",
              "      <td>50.00000</td>\n",
              "      <td>50.000000</td>\n",
              "      <td>50.000000</td>\n",
              "      <td>5.000000e+01</td>\n",
              "      <td>50.000000</td>\n",
              "    </tr>\n",
              "    <tr>\n",
              "      <th>mean</th>\n",
              "      <td>24.50000</td>\n",
              "      <td>58.369952</td>\n",
              "      <td>26.720251</td>\n",
              "      <td>6.473165e+06</td>\n",
              "      <td>659140.048000</td>\n",
              "    </tr>\n",
              "    <tr>\n",
              "      <th>std</th>\n",
              "      <td>14.57738</td>\n",
              "      <td>0.014597</td>\n",
              "      <td>0.028202</td>\n",
              "      <td>1.633935e+03</td>\n",
              "      <td>1639.595133</td>\n",
              "    </tr>\n",
              "    <tr>\n",
              "      <th>min</th>\n",
              "      <td>0.00000</td>\n",
              "      <td>58.339484</td>\n",
              "      <td>26.677914</td>\n",
              "      <td>6.469794e+06</td>\n",
              "      <td>656703.310000</td>\n",
              "    </tr>\n",
              "    <tr>\n",
              "      <th>25%</th>\n",
              "      <td>12.25000</td>\n",
              "      <td>58.358984</td>\n",
              "      <td>26.697587</td>\n",
              "      <td>6.471941e+06</td>\n",
              "      <td>657877.192500</td>\n",
              "    </tr>\n",
              "    <tr>\n",
              "      <th>50%</th>\n",
              "      <td>24.50000</td>\n",
              "      <td>58.372706</td>\n",
              "      <td>26.717046</td>\n",
              "      <td>6.473473e+06</td>\n",
              "      <td>658936.005000</td>\n",
              "    </tr>\n",
              "    <tr>\n",
              "      <th>75%</th>\n",
              "      <td>36.75000</td>\n",
              "      <td>58.382243</td>\n",
              "      <td>26.737459</td>\n",
              "      <td>6.474546e+06</td>\n",
              "      <td>660109.225000</td>\n",
              "    </tr>\n",
              "    <tr>\n",
              "      <th>max</th>\n",
              "      <td>49.00000</td>\n",
              "      <td>58.398084</td>\n",
              "      <td>26.789107</td>\n",
              "      <td>6.476292e+06</td>\n",
              "      <td>663265.300000</td>\n",
              "    </tr>\n",
              "  </tbody>\n",
              "</table>\n",
              "</div>"
            ],
            "text/plain": [
              "             id   latitude  longitude             x              y\n",
              "count  50.00000  50.000000  50.000000  5.000000e+01      50.000000\n",
              "mean   24.50000  58.369952  26.720251  6.473165e+06  659140.048000\n",
              "std    14.57738   0.014597   0.028202  1.633935e+03    1639.595133\n",
              "min     0.00000  58.339484  26.677914  6.469794e+06  656703.310000\n",
              "25%    12.25000  58.358984  26.697587  6.471941e+06  657877.192500\n",
              "50%    24.50000  58.372706  26.717046  6.473473e+06  658936.005000\n",
              "75%    36.75000  58.382243  26.737459  6.474546e+06  660109.225000\n",
              "max    49.00000  58.398084  26.789107  6.476292e+06  663265.300000"
            ]
          },
          "metadata": {
            "tags": []
          },
          "execution_count": 106
        }
      ]
    },
    {
      "cell_type": "code",
      "metadata": {
        "id": "kpDs6h4doXiX",
        "colab": {
          "base_uri": "https://localhost:8080/",
          "height": 204
        },
        "outputId": "870fcb7b-27c2-4e48-cefa-949b36e4dff1"
      },
      "source": [
        "home_location_df[\"location_type\"] = \"home\"\n",
        "public_charger_location_df[\"location_type\"] = \"public\"\n",
        "\n",
        "location_df = pd.concat([home_location_df, public_charger_location_df])\n",
        "location_df = location_df.rename(columns={'id': 'loc_id'})\n",
        "location_df.head()"
      ],
      "execution_count": null,
      "outputs": [
        {
          "output_type": "execute_result",
          "data": {
            "text/html": [
              "<div>\n",
              "<style scoped>\n",
              "    .dataframe tbody tr th:only-of-type {\n",
              "        vertical-align: middle;\n",
              "    }\n",
              "\n",
              "    .dataframe tbody tr th {\n",
              "        vertical-align: top;\n",
              "    }\n",
              "\n",
              "    .dataframe thead th {\n",
              "        text-align: right;\n",
              "    }\n",
              "</style>\n",
              "<table border=\"1\" class=\"dataframe\">\n",
              "  <thead>\n",
              "    <tr style=\"text-align: right;\">\n",
              "      <th></th>\n",
              "      <th>loc_id</th>\n",
              "      <th>address</th>\n",
              "      <th>cadaster</th>\n",
              "      <th>latitude</th>\n",
              "      <th>longitude</th>\n",
              "      <th>x</th>\n",
              "      <th>y</th>\n",
              "      <th>location_type</th>\n",
              "    </tr>\n",
              "  </thead>\n",
              "  <tbody>\n",
              "    <tr>\n",
              "      <th>0</th>\n",
              "      <td>0</td>\n",
              "      <td>1, Kvissentali põik, Ülejõe, Tartu linn, Tartu...</td>\n",
              "      <td>79514:037:0033</td>\n",
              "      <td>58.406210</td>\n",
              "      <td>26.706300</td>\n",
              "      <td>6477173.28</td>\n",
              "      <td>658139.66</td>\n",
              "      <td>home</td>\n",
              "    </tr>\n",
              "    <tr>\n",
              "      <th>1</th>\n",
              "      <td>1</td>\n",
              "      <td>28b/1, Orava, Raadi-Kruusamäe, Tartu linn, Tar...</td>\n",
              "      <td>79512:036:0020</td>\n",
              "      <td>58.389311</td>\n",
              "      <td>26.737114</td>\n",
              "      <td>6475347.92</td>\n",
              "      <td>660042.39</td>\n",
              "      <td>home</td>\n",
              "    </tr>\n",
              "    <tr>\n",
              "      <th>2</th>\n",
              "      <td>2</td>\n",
              "      <td>16, Alevi, Karlova, Tartu linn, Tartu, Tartu l...</td>\n",
              "      <td>79508:016:0001</td>\n",
              "      <td>58.362547</td>\n",
              "      <td>26.726161</td>\n",
              "      <td>6472365.82</td>\n",
              "      <td>659521.12</td>\n",
              "      <td>home</td>\n",
              "    </tr>\n",
              "    <tr>\n",
              "      <th>3</th>\n",
              "      <td>3</td>\n",
              "      <td>37, Voolu, Variku, Tartu linn, Tartu, Tartu li...</td>\n",
              "      <td>79509:019:0003</td>\n",
              "      <td>58.346618</td>\n",
              "      <td>26.702650</td>\n",
              "      <td>6470513.21</td>\n",
              "      <td>658227.79</td>\n",
              "      <td>home</td>\n",
              "    </tr>\n",
              "    <tr>\n",
              "      <th>4</th>\n",
              "      <td>4</td>\n",
              "      <td>12, Ilmatsalu, Veeriku, Tartu linn, Tartu, Tar...</td>\n",
              "      <td>79502:006:0095</td>\n",
              "      <td>58.375785</td>\n",
              "      <td>26.690146</td>\n",
              "      <td>6473716.85</td>\n",
              "      <td>657353.49</td>\n",
              "      <td>home</td>\n",
              "    </tr>\n",
              "  </tbody>\n",
              "</table>\n",
              "</div>"
            ],
            "text/plain": [
              "   loc_id  ... location_type\n",
              "0       0  ...          home\n",
              "1       1  ...          home\n",
              "2       2  ...          home\n",
              "3       3  ...          home\n",
              "4       4  ...          home\n",
              "\n",
              "[5 rows x 8 columns]"
            ]
          },
          "metadata": {
            "tags": []
          },
          "execution_count": 107
        }
      ]
    },
    {
      "cell_type": "code",
      "metadata": {
        "id": "cUZYMxx6hrrO"
      },
      "source": [
        "work_df = pd.merge(left=long_history_df, right=model_df, how='left', left_on=\"model\", right_on=\"model\")\n",
        "\n",
        "work_df = pd.merge(left=work_df, right=location_df, how='left', left_on='cadaster', right_on='cadaster')"
      ],
      "execution_count": null,
      "outputs": []
    },
    {
      "cell_type": "code",
      "metadata": {
        "id": "BcZR6kI5oFvo",
        "colab": {
          "base_uri": "https://localhost:8080/",
          "height": 957
        },
        "outputId": "a91e81a2-6318-469a-b1c6-7d50a6415d98"
      },
      "source": [
        "work_df.head(10)"
      ],
      "execution_count": null,
      "outputs": [
        {
          "output_type": "execute_result",
          "data": {
            "text/html": [
              "<div>\n",
              "<style scoped>\n",
              "    .dataframe tbody tr th:only-of-type {\n",
              "        vertical-align: middle;\n",
              "    }\n",
              "\n",
              "    .dataframe tbody tr th {\n",
              "        vertical-align: top;\n",
              "    }\n",
              "\n",
              "    .dataframe thead th {\n",
              "        text-align: right;\n",
              "    }\n",
              "</style>\n",
              "<table border=\"1\" class=\"dataframe\">\n",
              "  <thead>\n",
              "    <tr style=\"text-align: right;\">\n",
              "      <th></th>\n",
              "      <th>id</th>\n",
              "      <th>time</th>\n",
              "      <th>model</th>\n",
              "      <th>connected</th>\n",
              "      <th>soc</th>\n",
              "      <th>days</th>\n",
              "      <th>cadaster</th>\n",
              "      <th>ev_id</th>\n",
              "      <th>model_id</th>\n",
              "      <th>battery_size</th>\n",
              "      <th>charge_power</th>\n",
              "      <th>efficiency</th>\n",
              "      <th>loc_id</th>\n",
              "      <th>address</th>\n",
              "      <th>latitude</th>\n",
              "      <th>longitude</th>\n",
              "      <th>x</th>\n",
              "      <th>y</th>\n",
              "      <th>location_type</th>\n",
              "    </tr>\n",
              "  </thead>\n",
              "  <tbody>\n",
              "    <tr>\n",
              "      <th>0</th>\n",
              "      <td>0</td>\n",
              "      <td>1</td>\n",
              "      <td>Nissan Leaf e+</td>\n",
              "      <td>True</td>\n",
              "      <td>36.250000</td>\n",
              "      <td>1</td>\n",
              "      <td>79514:037:0033</td>\n",
              "      <td>0</td>\n",
              "      <td>1</td>\n",
              "      <td>56.0</td>\n",
              "      <td>6.6</td>\n",
              "      <td>0.172</td>\n",
              "      <td>0</td>\n",
              "      <td>1, Kvissentali põik, Ülejõe, Tartu linn, Tartu...</td>\n",
              "      <td>58.406210</td>\n",
              "      <td>26.706300</td>\n",
              "      <td>6477173.28</td>\n",
              "      <td>658139.66</td>\n",
              "      <td>home</td>\n",
              "    </tr>\n",
              "    <tr>\n",
              "      <th>1</th>\n",
              "      <td>1</td>\n",
              "      <td>2</td>\n",
              "      <td>Nissan Leaf e+</td>\n",
              "      <td>True</td>\n",
              "      <td>42.850000</td>\n",
              "      <td>1</td>\n",
              "      <td>79514:037:0033</td>\n",
              "      <td>0</td>\n",
              "      <td>1</td>\n",
              "      <td>56.0</td>\n",
              "      <td>6.6</td>\n",
              "      <td>0.172</td>\n",
              "      <td>0</td>\n",
              "      <td>1, Kvissentali põik, Ülejõe, Tartu linn, Tartu...</td>\n",
              "      <td>58.406210</td>\n",
              "      <td>26.706300</td>\n",
              "      <td>6477173.28</td>\n",
              "      <td>658139.66</td>\n",
              "      <td>home</td>\n",
              "    </tr>\n",
              "    <tr>\n",
              "      <th>2</th>\n",
              "      <td>2</td>\n",
              "      <td>3</td>\n",
              "      <td>Nissan Leaf e+</td>\n",
              "      <td>True</td>\n",
              "      <td>49.450000</td>\n",
              "      <td>1</td>\n",
              "      <td>79514:037:0033</td>\n",
              "      <td>0</td>\n",
              "      <td>1</td>\n",
              "      <td>56.0</td>\n",
              "      <td>6.6</td>\n",
              "      <td>0.172</td>\n",
              "      <td>0</td>\n",
              "      <td>1, Kvissentali põik, Ülejõe, Tartu linn, Tartu...</td>\n",
              "      <td>58.406210</td>\n",
              "      <td>26.706300</td>\n",
              "      <td>6477173.28</td>\n",
              "      <td>658139.66</td>\n",
              "      <td>home</td>\n",
              "    </tr>\n",
              "    <tr>\n",
              "      <th>3</th>\n",
              "      <td>3</td>\n",
              "      <td>4</td>\n",
              "      <td>Nissan Leaf e+</td>\n",
              "      <td>True</td>\n",
              "      <td>56.000000</td>\n",
              "      <td>1</td>\n",
              "      <td>79514:037:0033</td>\n",
              "      <td>0</td>\n",
              "      <td>1</td>\n",
              "      <td>56.0</td>\n",
              "      <td>6.6</td>\n",
              "      <td>0.172</td>\n",
              "      <td>0</td>\n",
              "      <td>1, Kvissentali põik, Ülejõe, Tartu linn, Tartu...</td>\n",
              "      <td>58.406210</td>\n",
              "      <td>26.706300</td>\n",
              "      <td>6477173.28</td>\n",
              "      <td>658139.66</td>\n",
              "      <td>home</td>\n",
              "    </tr>\n",
              "    <tr>\n",
              "      <th>4</th>\n",
              "      <td>4</td>\n",
              "      <td>5</td>\n",
              "      <td>Nissan Leaf e+</td>\n",
              "      <td>True</td>\n",
              "      <td>56.000000</td>\n",
              "      <td>1</td>\n",
              "      <td>79514:037:0033</td>\n",
              "      <td>0</td>\n",
              "      <td>1</td>\n",
              "      <td>56.0</td>\n",
              "      <td>6.6</td>\n",
              "      <td>0.172</td>\n",
              "      <td>0</td>\n",
              "      <td>1, Kvissentali põik, Ülejõe, Tartu linn, Tartu...</td>\n",
              "      <td>58.406210</td>\n",
              "      <td>26.706300</td>\n",
              "      <td>6477173.28</td>\n",
              "      <td>658139.66</td>\n",
              "      <td>home</td>\n",
              "    </tr>\n",
              "    <tr>\n",
              "      <th>5</th>\n",
              "      <td>5</td>\n",
              "      <td>6</td>\n",
              "      <td>Nissan Leaf e+</td>\n",
              "      <td>False</td>\n",
              "      <td>56.000000</td>\n",
              "      <td>1</td>\n",
              "      <td>79514:037:0033</td>\n",
              "      <td>0</td>\n",
              "      <td>1</td>\n",
              "      <td>56.0</td>\n",
              "      <td>6.6</td>\n",
              "      <td>0.172</td>\n",
              "      <td>0</td>\n",
              "      <td>1, Kvissentali põik, Ülejõe, Tartu linn, Tartu...</td>\n",
              "      <td>58.406210</td>\n",
              "      <td>26.706300</td>\n",
              "      <td>6477173.28</td>\n",
              "      <td>658139.66</td>\n",
              "      <td>home</td>\n",
              "    </tr>\n",
              "    <tr>\n",
              "      <th>6</th>\n",
              "      <td>6</td>\n",
              "      <td>7</td>\n",
              "      <td>Nissan Leaf e+</td>\n",
              "      <td>True</td>\n",
              "      <td>47.480729</td>\n",
              "      <td>1</td>\n",
              "      <td>79507:007:0005</td>\n",
              "      <td>0</td>\n",
              "      <td>1</td>\n",
              "      <td>56.0</td>\n",
              "      <td>6.6</td>\n",
              "      <td>0.172</td>\n",
              "      <td>22</td>\n",
              "      <td>Hugo Treffneri Gümnaasium, 12, Munga, Kesklinn...</td>\n",
              "      <td>58.382241</td>\n",
              "      <td>26.720496</td>\n",
              "      <td>6474543.89</td>\n",
              "      <td>659056.19</td>\n",
              "      <td>public</td>\n",
              "    </tr>\n",
              "    <tr>\n",
              "      <th>7</th>\n",
              "      <td>7</td>\n",
              "      <td>8</td>\n",
              "      <td>Nissan Leaf e+</td>\n",
              "      <td>False</td>\n",
              "      <td>54.080729</td>\n",
              "      <td>1</td>\n",
              "      <td>79507:007:0005</td>\n",
              "      <td>0</td>\n",
              "      <td>1</td>\n",
              "      <td>56.0</td>\n",
              "      <td>6.6</td>\n",
              "      <td>0.172</td>\n",
              "      <td>22</td>\n",
              "      <td>Hugo Treffneri Gümnaasium, 12, Munga, Kesklinn...</td>\n",
              "      <td>58.382241</td>\n",
              "      <td>26.720496</td>\n",
              "      <td>6474543.89</td>\n",
              "      <td>659056.19</td>\n",
              "      <td>public</td>\n",
              "    </tr>\n",
              "    <tr>\n",
              "      <th>8</th>\n",
              "      <td>8</td>\n",
              "      <td>9</td>\n",
              "      <td>Nissan Leaf e+</td>\n",
              "      <td>False</td>\n",
              "      <td>49.061419</td>\n",
              "      <td>1</td>\n",
              "      <td>79507:007:0005</td>\n",
              "      <td>0</td>\n",
              "      <td>1</td>\n",
              "      <td>56.0</td>\n",
              "      <td>6.6</td>\n",
              "      <td>0.172</td>\n",
              "      <td>22</td>\n",
              "      <td>Hugo Treffneri Gümnaasium, 12, Munga, Kesklinn...</td>\n",
              "      <td>58.382241</td>\n",
              "      <td>26.720496</td>\n",
              "      <td>6474543.89</td>\n",
              "      <td>659056.19</td>\n",
              "      <td>public</td>\n",
              "    </tr>\n",
              "    <tr>\n",
              "      <th>9</th>\n",
              "      <td>9</td>\n",
              "      <td>10</td>\n",
              "      <td>Nissan Leaf e+</td>\n",
              "      <td>False</td>\n",
              "      <td>48.201419</td>\n",
              "      <td>1</td>\n",
              "      <td>79507:007:0005</td>\n",
              "      <td>0</td>\n",
              "      <td>1</td>\n",
              "      <td>56.0</td>\n",
              "      <td>6.6</td>\n",
              "      <td>0.172</td>\n",
              "      <td>22</td>\n",
              "      <td>Hugo Treffneri Gümnaasium, 12, Munga, Kesklinn...</td>\n",
              "      <td>58.382241</td>\n",
              "      <td>26.720496</td>\n",
              "      <td>6474543.89</td>\n",
              "      <td>659056.19</td>\n",
              "      <td>public</td>\n",
              "    </tr>\n",
              "  </tbody>\n",
              "</table>\n",
              "</div>"
            ],
            "text/plain": [
              "   id  time           model  ...           x          y  location_type\n",
              "0   0     1  Nissan Leaf e+  ...  6477173.28  658139.66           home\n",
              "1   1     2  Nissan Leaf e+  ...  6477173.28  658139.66           home\n",
              "2   2     3  Nissan Leaf e+  ...  6477173.28  658139.66           home\n",
              "3   3     4  Nissan Leaf e+  ...  6477173.28  658139.66           home\n",
              "4   4     5  Nissan Leaf e+  ...  6477173.28  658139.66           home\n",
              "5   5     6  Nissan Leaf e+  ...  6477173.28  658139.66           home\n",
              "6   6     7  Nissan Leaf e+  ...  6474543.89  659056.19         public\n",
              "7   7     8  Nissan Leaf e+  ...  6474543.89  659056.19         public\n",
              "8   8     9  Nissan Leaf e+  ...  6474543.89  659056.19         public\n",
              "9   9    10  Nissan Leaf e+  ...  6474543.89  659056.19         public\n",
              "\n",
              "[10 rows x 19 columns]"
            ]
          },
          "metadata": {
            "tags": []
          },
          "execution_count": 109
        }
      ]
    },
    {
      "cell_type": "code",
      "metadata": {
        "colab": {
          "base_uri": "https://localhost:8080/",
          "height": 204
        },
        "id": "KxqsSDtFXhbI",
        "outputId": "8221a5aa-6b23-4b63-b89b-76215d654958"
      },
      "source": [
        "clean_work_df = work_df[[\"ev_id\", \"model_id\", \"days\",\"time\", \"connected\", \"soc\", \"loc_id\", \"location_type\"]]\r\n",
        "\r\n",
        "clean_work_df.head()"
      ],
      "execution_count": null,
      "outputs": [
        {
          "output_type": "execute_result",
          "data": {
            "text/html": [
              "<div>\n",
              "<style scoped>\n",
              "    .dataframe tbody tr th:only-of-type {\n",
              "        vertical-align: middle;\n",
              "    }\n",
              "\n",
              "    .dataframe tbody tr th {\n",
              "        vertical-align: top;\n",
              "    }\n",
              "\n",
              "    .dataframe thead th {\n",
              "        text-align: right;\n",
              "    }\n",
              "</style>\n",
              "<table border=\"1\" class=\"dataframe\">\n",
              "  <thead>\n",
              "    <tr style=\"text-align: right;\">\n",
              "      <th></th>\n",
              "      <th>ev_id</th>\n",
              "      <th>model_id</th>\n",
              "      <th>days</th>\n",
              "      <th>time</th>\n",
              "      <th>connected</th>\n",
              "      <th>soc</th>\n",
              "      <th>loc_id</th>\n",
              "      <th>location_type</th>\n",
              "    </tr>\n",
              "  </thead>\n",
              "  <tbody>\n",
              "    <tr>\n",
              "      <th>0</th>\n",
              "      <td>0</td>\n",
              "      <td>1</td>\n",
              "      <td>1</td>\n",
              "      <td>1</td>\n",
              "      <td>True</td>\n",
              "      <td>36.25</td>\n",
              "      <td>0</td>\n",
              "      <td>home</td>\n",
              "    </tr>\n",
              "    <tr>\n",
              "      <th>1</th>\n",
              "      <td>0</td>\n",
              "      <td>1</td>\n",
              "      <td>1</td>\n",
              "      <td>2</td>\n",
              "      <td>True</td>\n",
              "      <td>42.85</td>\n",
              "      <td>0</td>\n",
              "      <td>home</td>\n",
              "    </tr>\n",
              "    <tr>\n",
              "      <th>2</th>\n",
              "      <td>0</td>\n",
              "      <td>1</td>\n",
              "      <td>1</td>\n",
              "      <td>3</td>\n",
              "      <td>True</td>\n",
              "      <td>49.45</td>\n",
              "      <td>0</td>\n",
              "      <td>home</td>\n",
              "    </tr>\n",
              "    <tr>\n",
              "      <th>3</th>\n",
              "      <td>0</td>\n",
              "      <td>1</td>\n",
              "      <td>1</td>\n",
              "      <td>4</td>\n",
              "      <td>True</td>\n",
              "      <td>56.00</td>\n",
              "      <td>0</td>\n",
              "      <td>home</td>\n",
              "    </tr>\n",
              "    <tr>\n",
              "      <th>4</th>\n",
              "      <td>0</td>\n",
              "      <td>1</td>\n",
              "      <td>1</td>\n",
              "      <td>5</td>\n",
              "      <td>True</td>\n",
              "      <td>56.00</td>\n",
              "      <td>0</td>\n",
              "      <td>home</td>\n",
              "    </tr>\n",
              "  </tbody>\n",
              "</table>\n",
              "</div>"
            ],
            "text/plain": [
              "   ev_id  model_id  days  time  connected    soc  loc_id location_type\n",
              "0      0         1     1     1       True  36.25       0          home\n",
              "1      0         1     1     2       True  42.85       0          home\n",
              "2      0         1     1     3       True  49.45       0          home\n",
              "3      0         1     1     4       True  56.00       0          home\n",
              "4      0         1     1     5       True  56.00       0          home"
            ]
          },
          "metadata": {
            "tags": []
          },
          "execution_count": 110
        }
      ]
    },
    {
      "cell_type": "code",
      "metadata": {
        "id": "J87qXViIw32C",
        "colab": {
          "base_uri": "https://localhost:8080/",
          "height": 767
        },
        "outputId": "f73fb221-30e2-4f89-b9af-c41c21f7b504"
      },
      "source": [
        "clean_work_df[\"soc_diff_charged\"] = np.where(clean_work_df[\"soc\"].diff() > 0, clean_work_df[\"soc\"].diff(), 0)\n",
        "clean_work_df[\"soc_diff_used\"] = np.where(clean_work_df[\"soc\"].diff() < 0, clean_work_df[\"soc\"].diff(), 0)\n",
        "\n",
        "#set days 1 = 0, because we don't want to calculate from different model\n",
        "clean_work_df[(clean_work_df[\"days\"] == 1) & (clean_work_df[\"time\"] == 1)][\"soc_diff_charged\"] = 0\n",
        "clean_work_df[(clean_work_df[\"days\"] == 1) & (clean_work_df[\"time\"] == 1)][\"soc_diff_used\"] = 0\n",
        "\n",
        "clean_work_df.head(10)"
      ],
      "execution_count": null,
      "outputs": [
        {
          "output_type": "stream",
          "text": [
            "/usr/local/lib/python3.6/dist-packages/ipykernel_launcher.py:1: SettingWithCopyWarning: \n",
            "A value is trying to be set on a copy of a slice from a DataFrame.\n",
            "Try using .loc[row_indexer,col_indexer] = value instead\n",
            "\n",
            "See the caveats in the documentation: https://pandas.pydata.org/pandas-docs/stable/user_guide/indexing.html#returning-a-view-versus-a-copy\n",
            "  \"\"\"Entry point for launching an IPython kernel.\n",
            "/usr/local/lib/python3.6/dist-packages/ipykernel_launcher.py:2: SettingWithCopyWarning: \n",
            "A value is trying to be set on a copy of a slice from a DataFrame.\n",
            "Try using .loc[row_indexer,col_indexer] = value instead\n",
            "\n",
            "See the caveats in the documentation: https://pandas.pydata.org/pandas-docs/stable/user_guide/indexing.html#returning-a-view-versus-a-copy\n",
            "  \n",
            "/usr/local/lib/python3.6/dist-packages/ipykernel_launcher.py:5: SettingWithCopyWarning: \n",
            "A value is trying to be set on a copy of a slice from a DataFrame.\n",
            "Try using .loc[row_indexer,col_indexer] = value instead\n",
            "\n",
            "See the caveats in the documentation: https://pandas.pydata.org/pandas-docs/stable/user_guide/indexing.html#returning-a-view-versus-a-copy\n",
            "  \"\"\"\n",
            "/usr/local/lib/python3.6/dist-packages/ipykernel_launcher.py:6: SettingWithCopyWarning: \n",
            "A value is trying to be set on a copy of a slice from a DataFrame.\n",
            "Try using .loc[row_indexer,col_indexer] = value instead\n",
            "\n",
            "See the caveats in the documentation: https://pandas.pydata.org/pandas-docs/stable/user_guide/indexing.html#returning-a-view-versus-a-copy\n",
            "  \n"
          ],
          "name": "stderr"
        },
        {
          "output_type": "execute_result",
          "data": {
            "text/html": [
              "<div>\n",
              "<style scoped>\n",
              "    .dataframe tbody tr th:only-of-type {\n",
              "        vertical-align: middle;\n",
              "    }\n",
              "\n",
              "    .dataframe tbody tr th {\n",
              "        vertical-align: top;\n",
              "    }\n",
              "\n",
              "    .dataframe thead th {\n",
              "        text-align: right;\n",
              "    }\n",
              "</style>\n",
              "<table border=\"1\" class=\"dataframe\">\n",
              "  <thead>\n",
              "    <tr style=\"text-align: right;\">\n",
              "      <th></th>\n",
              "      <th>ev_id</th>\n",
              "      <th>model_id</th>\n",
              "      <th>days</th>\n",
              "      <th>time</th>\n",
              "      <th>connected</th>\n",
              "      <th>soc</th>\n",
              "      <th>loc_id</th>\n",
              "      <th>location_type</th>\n",
              "      <th>soc_diff_charged</th>\n",
              "      <th>soc_diff_used</th>\n",
              "    </tr>\n",
              "  </thead>\n",
              "  <tbody>\n",
              "    <tr>\n",
              "      <th>0</th>\n",
              "      <td>0</td>\n",
              "      <td>1</td>\n",
              "      <td>1</td>\n",
              "      <td>1</td>\n",
              "      <td>True</td>\n",
              "      <td>36.250000</td>\n",
              "      <td>0</td>\n",
              "      <td>home</td>\n",
              "      <td>0.00</td>\n",
              "      <td>0.000000</td>\n",
              "    </tr>\n",
              "    <tr>\n",
              "      <th>1</th>\n",
              "      <td>0</td>\n",
              "      <td>1</td>\n",
              "      <td>1</td>\n",
              "      <td>2</td>\n",
              "      <td>True</td>\n",
              "      <td>42.850000</td>\n",
              "      <td>0</td>\n",
              "      <td>home</td>\n",
              "      <td>6.60</td>\n",
              "      <td>0.000000</td>\n",
              "    </tr>\n",
              "    <tr>\n",
              "      <th>2</th>\n",
              "      <td>0</td>\n",
              "      <td>1</td>\n",
              "      <td>1</td>\n",
              "      <td>3</td>\n",
              "      <td>True</td>\n",
              "      <td>49.450000</td>\n",
              "      <td>0</td>\n",
              "      <td>home</td>\n",
              "      <td>6.60</td>\n",
              "      <td>0.000000</td>\n",
              "    </tr>\n",
              "    <tr>\n",
              "      <th>3</th>\n",
              "      <td>0</td>\n",
              "      <td>1</td>\n",
              "      <td>1</td>\n",
              "      <td>4</td>\n",
              "      <td>True</td>\n",
              "      <td>56.000000</td>\n",
              "      <td>0</td>\n",
              "      <td>home</td>\n",
              "      <td>6.55</td>\n",
              "      <td>0.000000</td>\n",
              "    </tr>\n",
              "    <tr>\n",
              "      <th>4</th>\n",
              "      <td>0</td>\n",
              "      <td>1</td>\n",
              "      <td>1</td>\n",
              "      <td>5</td>\n",
              "      <td>True</td>\n",
              "      <td>56.000000</td>\n",
              "      <td>0</td>\n",
              "      <td>home</td>\n",
              "      <td>0.00</td>\n",
              "      <td>0.000000</td>\n",
              "    </tr>\n",
              "    <tr>\n",
              "      <th>5</th>\n",
              "      <td>0</td>\n",
              "      <td>1</td>\n",
              "      <td>1</td>\n",
              "      <td>6</td>\n",
              "      <td>False</td>\n",
              "      <td>56.000000</td>\n",
              "      <td>0</td>\n",
              "      <td>home</td>\n",
              "      <td>0.00</td>\n",
              "      <td>0.000000</td>\n",
              "    </tr>\n",
              "    <tr>\n",
              "      <th>6</th>\n",
              "      <td>0</td>\n",
              "      <td>1</td>\n",
              "      <td>1</td>\n",
              "      <td>7</td>\n",
              "      <td>True</td>\n",
              "      <td>47.480729</td>\n",
              "      <td>22</td>\n",
              "      <td>public</td>\n",
              "      <td>0.00</td>\n",
              "      <td>-8.519271</td>\n",
              "    </tr>\n",
              "    <tr>\n",
              "      <th>7</th>\n",
              "      <td>0</td>\n",
              "      <td>1</td>\n",
              "      <td>1</td>\n",
              "      <td>8</td>\n",
              "      <td>False</td>\n",
              "      <td>54.080729</td>\n",
              "      <td>22</td>\n",
              "      <td>public</td>\n",
              "      <td>6.60</td>\n",
              "      <td>0.000000</td>\n",
              "    </tr>\n",
              "    <tr>\n",
              "      <th>8</th>\n",
              "      <td>0</td>\n",
              "      <td>1</td>\n",
              "      <td>1</td>\n",
              "      <td>9</td>\n",
              "      <td>False</td>\n",
              "      <td>49.061419</td>\n",
              "      <td>22</td>\n",
              "      <td>public</td>\n",
              "      <td>0.00</td>\n",
              "      <td>-5.019311</td>\n",
              "    </tr>\n",
              "    <tr>\n",
              "      <th>9</th>\n",
              "      <td>0</td>\n",
              "      <td>1</td>\n",
              "      <td>1</td>\n",
              "      <td>10</td>\n",
              "      <td>False</td>\n",
              "      <td>48.201419</td>\n",
              "      <td>22</td>\n",
              "      <td>public</td>\n",
              "      <td>0.00</td>\n",
              "      <td>-0.860000</td>\n",
              "    </tr>\n",
              "  </tbody>\n",
              "</table>\n",
              "</div>"
            ],
            "text/plain": [
              "   ev_id  model_id  days  ...  location_type  soc_diff_charged  soc_diff_used\n",
              "0      0         1     1  ...           home              0.00       0.000000\n",
              "1      0         1     1  ...           home              6.60       0.000000\n",
              "2      0         1     1  ...           home              6.60       0.000000\n",
              "3      0         1     1  ...           home              6.55       0.000000\n",
              "4      0         1     1  ...           home              0.00       0.000000\n",
              "5      0         1     1  ...           home              0.00       0.000000\n",
              "6      0         1     1  ...         public              0.00      -8.519271\n",
              "7      0         1     1  ...         public              6.60       0.000000\n",
              "8      0         1     1  ...         public              0.00      -5.019311\n",
              "9      0         1     1  ...         public              0.00      -0.860000\n",
              "\n",
              "[10 rows x 10 columns]"
            ]
          },
          "metadata": {
            "tags": []
          },
          "execution_count": 111
        }
      ]
    },
    {
      "cell_type": "code",
      "metadata": {
        "id": "-j1RZ9Y4rV2i",
        "colab": {
          "base_uri": "https://localhost:8080/",
          "height": 359
        },
        "outputId": "e8e73953-d964-41ba-aeda-ed4d3ed00141"
      },
      "source": [
        "charge_summary_df = clean_work_df[clean_work_df[\"connected\"] == True].groupby([\"ev_id\", \"model_id\", \"days\"])[\"connected\"].agg([\"count\"])\n",
        "charge_summary_df = charge_summary_df.reset_index(level=[0,1,2])\n",
        "\n",
        "#get drive times\n",
        "tmp = clean_work_df[clean_work_df[\"connected\"] == False].groupby([\"ev_id\", \"model_id\", \"days\"])[\"connected\"].agg([\"count\"])\n",
        "tmp = tmp.reset_index(level=[0,1,2])\n",
        "charge_summary_df = charge_summary_df.rename(columns={'count': 'charged_times'})\n",
        "charge_summary_df[\"drive_times\"] = tmp['count']\n",
        "\n",
        "#get charged and used power\n",
        "tmp = clean_work_df.groupby([\"ev_id\", \"model_id\", \"days\"])[[\"soc_diff_charged\", \"soc_diff_used\"]].agg([\"sum\"])\n",
        "tmp = tmp.reset_index(level=[0,1,2])\n",
        "charge_summary_df[\"total_charged\"] = tmp[\"soc_diff_charged\"][\"sum\"]\n",
        "charge_summary_df[\"total_used\"] = tmp[\"soc_diff_used\"][\"sum\"]\n",
        "\n",
        "charge_summary_df.head(10)\n"
      ],
      "execution_count": null,
      "outputs": [
        {
          "output_type": "execute_result",
          "data": {
            "text/html": [
              "<div>\n",
              "<style scoped>\n",
              "    .dataframe tbody tr th:only-of-type {\n",
              "        vertical-align: middle;\n",
              "    }\n",
              "\n",
              "    .dataframe tbody tr th {\n",
              "        vertical-align: top;\n",
              "    }\n",
              "\n",
              "    .dataframe thead th {\n",
              "        text-align: right;\n",
              "    }\n",
              "</style>\n",
              "<table border=\"1\" class=\"dataframe\">\n",
              "  <thead>\n",
              "    <tr style=\"text-align: right;\">\n",
              "      <th></th>\n",
              "      <th>ev_id</th>\n",
              "      <th>model_id</th>\n",
              "      <th>days</th>\n",
              "      <th>charged_times</th>\n",
              "      <th>drive_times</th>\n",
              "      <th>total_charged</th>\n",
              "      <th>total_used</th>\n",
              "    </tr>\n",
              "  </thead>\n",
              "  <tbody>\n",
              "    <tr>\n",
              "      <th>0</th>\n",
              "      <td>0</td>\n",
              "      <td>1</td>\n",
              "      <td>1</td>\n",
              "      <td>13</td>\n",
              "      <td>11</td>\n",
              "      <td>72.550000</td>\n",
              "      <td>-67.618828</td>\n",
              "    </tr>\n",
              "    <tr>\n",
              "      <th>1</th>\n",
              "      <td>0</td>\n",
              "      <td>1</td>\n",
              "      <td>2</td>\n",
              "      <td>11</td>\n",
              "      <td>13</td>\n",
              "      <td>68.410241</td>\n",
              "      <td>-78.961995</td>\n",
              "    </tr>\n",
              "    <tr>\n",
              "      <th>2</th>\n",
              "      <td>0</td>\n",
              "      <td>1</td>\n",
              "      <td>3</td>\n",
              "      <td>15</td>\n",
              "      <td>9</td>\n",
              "      <td>72.698554</td>\n",
              "      <td>-53.539766</td>\n",
              "    </tr>\n",
              "    <tr>\n",
              "      <th>3</th>\n",
              "      <td>0</td>\n",
              "      <td>1</td>\n",
              "      <td>4</td>\n",
              "      <td>16</td>\n",
              "      <td>8</td>\n",
              "      <td>38.877431</td>\n",
              "      <td>-32.665637</td>\n",
              "    </tr>\n",
              "    <tr>\n",
              "      <th>4</th>\n",
              "      <td>0</td>\n",
              "      <td>1</td>\n",
              "      <td>5</td>\n",
              "      <td>16</td>\n",
              "      <td>8</td>\n",
              "      <td>22.934849</td>\n",
              "      <td>-24.577437</td>\n",
              "    </tr>\n",
              "    <tr>\n",
              "      <th>5</th>\n",
              "      <td>0</td>\n",
              "      <td>1</td>\n",
              "      <td>6</td>\n",
              "      <td>18</td>\n",
              "      <td>6</td>\n",
              "      <td>16.562588</td>\n",
              "      <td>-26.115371</td>\n",
              "    </tr>\n",
              "    <tr>\n",
              "      <th>6</th>\n",
              "      <td>0</td>\n",
              "      <td>1</td>\n",
              "      <td>7</td>\n",
              "      <td>15</td>\n",
              "      <td>9</td>\n",
              "      <td>48.538978</td>\n",
              "      <td>-37.343607</td>\n",
              "    </tr>\n",
              "    <tr>\n",
              "      <th>7</th>\n",
              "      <td>0</td>\n",
              "      <td>1</td>\n",
              "      <td>8</td>\n",
              "      <td>13</td>\n",
              "      <td>11</td>\n",
              "      <td>26.542054</td>\n",
              "      <td>-46.913451</td>\n",
              "    </tr>\n",
              "    <tr>\n",
              "      <th>8</th>\n",
              "      <td>0</td>\n",
              "      <td>1</td>\n",
              "      <td>9</td>\n",
              "      <td>13</td>\n",
              "      <td>11</td>\n",
              "      <td>76.835849</td>\n",
              "      <td>-86.174526</td>\n",
              "    </tr>\n",
              "    <tr>\n",
              "      <th>9</th>\n",
              "      <td>0</td>\n",
              "      <td>1</td>\n",
              "      <td>10</td>\n",
              "      <td>17</td>\n",
              "      <td>7</td>\n",
              "      <td>53.733208</td>\n",
              "      <td>-24.023134</td>\n",
              "    </tr>\n",
              "  </tbody>\n",
              "</table>\n",
              "</div>"
            ],
            "text/plain": [
              "   ev_id  model_id  days  charged_times  drive_times  total_charged  total_used\n",
              "0      0         1     1             13           11      72.550000  -67.618828\n",
              "1      0         1     2             11           13      68.410241  -78.961995\n",
              "2      0         1     3             15            9      72.698554  -53.539766\n",
              "3      0         1     4             16            8      38.877431  -32.665637\n",
              "4      0         1     5             16            8      22.934849  -24.577437\n",
              "5      0         1     6             18            6      16.562588  -26.115371\n",
              "6      0         1     7             15            9      48.538978  -37.343607\n",
              "7      0         1     8             13           11      26.542054  -46.913451\n",
              "8      0         1     9             13           11      76.835849  -86.174526\n",
              "9      0         1    10             17            7      53.733208  -24.023134"
            ]
          },
          "metadata": {
            "tags": []
          },
          "execution_count": 112
        }
      ]
    },
    {
      "cell_type": "code",
      "metadata": {
        "colab": {
          "base_uri": "https://localhost:8080/"
        },
        "id": "MCohAw95diaV",
        "outputId": "44356f33-e3dc-4102-ff7c-45f8009f9951"
      },
      "source": [
        "pd.set_option('display.max_rows', None)\r\n",
        "merged_inner = pd.merge(left=clean_work_df, right=model_df, left_on='model_id', right_on='model_id')\r\n",
        "merged_inner[\"soc_diff\"] = abs(merged_inner[\"soc_diff_charged\"] +  merged_inner[\"soc_diff_used\"])\r\n",
        "merged_inner[\"distance_traveled\"] = abs(merged_inner[\"soc_diff_used\"]) / merged_inner[\"efficiency\"]\r\n",
        "merged_inner[\"connected_val\"] = np.where(merged_inner[\"connected\"], 1, 0) \r\n",
        "merged_inner[\"location_val\"] = np.where(merged_inner[\"location_type\"] == \"home\", 0, 1)\r\n",
        "tmp_df = merged_inner[merged_inner[\"ev_id\"] == 0]\r\n",
        " \r\n",
        "train_work_df = tmp_df[: int(np.round(len(tmp_df) * 0.8))]\r\n",
        "val_work_df = tmp_df[int(np.round(len(tmp_df) * 0.8)) :]\r\n",
        " \r\n",
        "for i in range(1, 100):\r\n",
        "  tmp_df = merged_inner[merged_inner[\"ev_id\"] == i]\r\n",
        " \r\n",
        "  train_work_df = pd.concat([train_work_df, tmp_df[: int(np.round(len(tmp_df) * 0.8))]])\r\n",
        "  val_work_df = pd.concat([val_work_df, tmp_df[int(np.round(len(tmp_df) * 0.8)) :]])\r\n",
        " \r\n",
        "print(train_work_df.shape)\r\n",
        "print(val_work_df.shape)"
      ],
      "execution_count": null,
      "outputs": [
        {
          "output_type": "stream",
          "text": [
            "(57600, 18)\n",
            "(14400, 18)\n"
          ],
          "name": "stdout"
        }
      ]
    },
    {
      "cell_type": "markdown",
      "metadata": {
        "id": "kl1pB65feyzi"
      },
      "source": [
        "# Distnce RNN"
      ]
    },
    {
      "cell_type": "markdown",
      "metadata": {
        "id": "cNlGLvzhfA1x"
      },
      "source": [
        "## Creating the model"
      ]
    },
    {
      "cell_type": "code",
      "metadata": {
        "id": "UIGBPfzqgVrJ"
      },
      "source": [
        "def getModelNN2(X, y):\r\n",
        "  X['distance_traveled'] = y\r\n",
        "  X = sc.fit_transform(X)\r\n",
        "\r\n",
        "  x_training_data = []\r\n",
        " \r\n",
        "  y_training_data =[]\r\n",
        "\r\n",
        "  for i in range(100, len(X)):\r\n",
        "    x_training_data.append(X[i-100:i, 0])\r\n",
        "\r\n",
        "    y_training_data.append(X[i, 0])\r\n",
        " \r\n",
        "  x_training_data = np.array(x_training_data)\r\n",
        "  \r\n",
        "  y_training_data = np.array(y_training_data)\r\n",
        "  \r\n",
        "  x_training_data = np.reshape(x_training_data, (x_training_data.shape[0], \r\n",
        "  \r\n",
        "                                                x_training_data.shape[1], \r\n",
        "  \r\n",
        "                                                1))\r\n",
        "\r\n",
        "  model = Sequential()\r\n",
        "  model.add(LSTM(units = 45, return_sequences = True, input_shape = (x_training_data.shape[1], 1)))\r\n",
        "  model.add(LSTM(units = 45, return_sequences = True))\r\n",
        "  model.add(Dropout(0.2))\r\n",
        "  model.add(LSTM(units = 45))\r\n",
        "  model.add(Dropout(0.2))\r\n",
        "  model.add(Dense(units = 1))\r\n",
        "  \r\n",
        "  model.compile(loss='mean_squared_error', optimizer='adam', metrics='accuracy')\r\n",
        "  history = model.fit(x_training_data, y_training_data, epochs = 3, batch_size = 32,validation_split = 0.2)\r\n",
        "  return model, history"
      ],
      "execution_count": null,
      "outputs": []
    },
    {
      "cell_type": "markdown",
      "metadata": {
        "id": "3BxZqAzIfeRg"
      },
      "source": [
        "##Plotting and Predicting"
      ]
    },
    {
      "cell_type": "code",
      "metadata": {
        "colab": {
          "base_uri": "https://localhost:8080/"
        },
        "id": "e7CHbgVuc3R3",
        "outputId": "4fad4741-5827-43f0-afd7-fe04561c49e3"
      },
      "source": [
        "def dataForNN(data):\r\n",
        "    merged_inner = pd.merge(left=clean_work_df, right=model_df, left_on='model_id', right_on='model_id')\r\n",
        "    merged_inner[\"soc_diff\"] = abs(merged_inner[\"soc_diff_charged\"] +  merged_inner[\"soc_diff_used\"])\r\n",
        "    merged_inner[\"distance_traveled\"] = abs(merged_inner[\"soc_diff_used\"] / merged_inner[\"efficiency\"])\r\n",
        "\r\n",
        "    X = merged_inner[[\"ev_id\", \"time\", \"days\"]]\r\n",
        "    y = merged_inner[\"distance_traveled\"]\r\n",
        "\r\n",
        "    # Normalizing data.\r\n",
        "    X = pd.concat([X, pd.get_dummies(X[\"ev_id\"], prefix = \"ev_id\")], axis=1, sort=False)\r\n",
        "    del X[\"ev_id\"]\r\n",
        "    X = pd.concat([X, pd.get_dummies(X[\"time\"], prefix = \"time\")], axis=1, sort=False)\r\n",
        "    del X[\"time\"]\r\n",
        "    X = pd.concat([X, pd.get_dummies(X[\"days\"], prefix = \"days\")], axis=1, sort=False)\r\n",
        "    del X[\"days\"]\r\n",
        "\r\n",
        "    return X, y\r\n",
        "\r\n",
        "from keras.models import Sequential\r\n",
        "from keras.layers import Dense, Dropout\r\n",
        "\r\n",
        "def getModelNN(X, y):\r\n",
        "  model = Sequential()\r\n",
        "  model.add(Dense(64, activation='relu'))\r\n",
        "  model.add(Dense(128, activation='relu'))\r\n",
        "  model.add(Dropout(0.4))\r\n",
        "  model.add(Dense(1))\r\n",
        "  model.compile(loss='mean_absolute_error', optimizer='adam')\r\n",
        "  history = model.fit(X, y, epochs=40, batch_size=200, validation_split = 0.2)\r\n",
        "  return model, history\r\n",
        "from matplotlib import pyplot as plt\r\n",
        "\r\n",
        "# From HW4.\r\n",
        "def plot_curves(history):\r\n",
        "    plt.figure(figsize=(16, 6))\r\n",
        "    plt.plot(history.history['loss'])\r\n",
        "    plt.plot(history.history['val_loss'])\r\n",
        "    plt.xlabel('Epoch')\r\n",
        "    plt.ylabel('Loss')\r\n",
        "    plt.legend(['Training', 'Validation'])\r\n",
        "    plt.title('Loss')\r\n",
        "\r\n",
        "X_nn, y_nn = dataForNN(train_work_df)\r\n",
        "model_nn, history_nn = getModelNN2(X_nn, y_nn)\r\n",
        "#plot_curves(history_nn)\r\n",
        "\r\n",
        "def getModifiedInput(day, ev_id, max_days, max_ev_id):\r\n",
        "    frames = []\r\n",
        "\r\n",
        "    max_days += 1\r\n",
        "    max_hours = 24 + 1\r\n",
        "    max_ev_id += 1\r\n",
        "\r\n",
        "    for h in range(24):\r\n",
        "      # days columns\r\n",
        "      day_col = [\"days_\" + str(d) for d in range(1, max_days)]\r\n",
        "      day_row = [0 for _ in range(1, max_days)]\r\n",
        "      day_row[day] = 1\r\n",
        "\r\n",
        "      # hour columns\r\n",
        "      hour_col = [\"time_\" + str(t) for t in range(1, max_hours)]\r\n",
        "      hour_row = [0 for _ in range(1, max_hours)]\r\n",
        "      hour_row[h] = 1\r\n",
        "\r\n",
        "      # ev_id columns\r\n",
        "      ev_col = [\"ev_id_\" + str(e) for e in range(int(max_ev_id))]\r\n",
        "      ev_row = [0 for _ in range(max_ev_id)]\r\n",
        "      ev_row[ev_id] = 1\r\n",
        "\r\n",
        "      df = pd.DataFrame([day_row + hour_row + ev_row], columns = (day_col + hour_col + ev_col))\r\n",
        "      frames.append(df)\r\n",
        "    return pd.concat(frames)\r\n",
        "\r\n",
        "\r\n",
        "def getMaxDays(data):\r\n",
        "    return data[\"ev_id\"].max()\r\n",
        "\r\n",
        "\r\n",
        "def getMaxEvId(data):\r\n",
        "    return data[\"days\"].max()\r\n",
        "\r\n",
        "\r\n",
        "def predict24h(model, ev_id, max_days, max_ev_id):\r\n",
        "    nn_df_24h = getModifiedInput(1, ev_id, int(max_days), int(max_ev_id))\r\n",
        "    print(nn_df_24h)\r\n",
        "    sm = nn_df_24h.values\r\n",
        "    smashing = np.reshape(sm, (-1,1))\r\n",
        "    smashing = sc.fit_transform(smashing)\r\n",
        "    final_x_test_data = []\r\n",
        "    \r\n",
        "    for i in range(24, len(smashing)):\r\n",
        "\r\n",
        "      final_x_test_data.append(smashing[i-24:i, 0])\r\n",
        "\r\n",
        "    final_x_test_data = np.array(final_x_test_data)\r\n",
        "\r\n",
        "    final_x_test_data = np.reshape(final_x_test_data, (final_x_test_data.shape[0], \r\n",
        "\r\n",
        "                                                  final_x_test_data.shape[1], \r\n",
        "\r\n",
        "                                                  1))\r\n",
        "    predicted = model.predict(final_x_test_data)\r\n",
        "    predicted[predicted < 0] = 0\r\n",
        "    return predicted\r\n",
        "\r\n",
        "def returnPredictData(ev_id, time, ds):\r\n",
        "  #example time = 15\r\n",
        "  data = []\r\n",
        "  counter = time\r\n",
        "  for i in range(24):\r\n",
        "    if(counter == 24):\r\n",
        "      counter = 1\r\n",
        "    helper = ds[(ds[\"ev_id\"] == ev_id) & (ds[\"days\"] == 24) & (ds[\"time\"] == counter)][\"distance_traveled\"].values[0]\r\n",
        "    data.append([ev_id, counter, helper])\r\n",
        "    counter+=1\r\n",
        "  return pd.DataFrame(data, columns = ['ev_id', 'time' ,'distance_traveled'])"
      ],
      "execution_count": null,
      "outputs": [
        {
          "output_type": "stream",
          "text": [
            "Epoch 1/3\n",
            "1798/1798 [==============================] - 27s 15ms/step - loss: 4.8313e-04 - accuracy: 0.9997 - val_loss: 1.1113e-05 - val_accuracy: 1.0000\n",
            "Epoch 2/3\n",
            "1798/1798 [==============================] - 27s 15ms/step - loss: 2.3957e-04 - accuracy: 0.9999 - val_loss: 1.4702e-06 - val_accuracy: 1.0000\n",
            "Epoch 3/3\n",
            "1798/1798 [==============================] - 27s 15ms/step - loss: 2.0204e-04 - accuracy: 0.9999 - val_loss: 5.4038e-05 - val_accuracy: 1.0000\n"
          ],
          "name": "stdout"
        }
      ]
    },
    {
      "cell_type": "markdown",
      "metadata": {
        "id": "2KXzcPqOfknT"
      },
      "source": [
        "##Creating the test set"
      ]
    },
    {
      "cell_type": "code",
      "metadata": {
        "id": "4UtdZarhHx0I",
        "colab": {
          "base_uri": "https://localhost:8080/"
        },
        "outputId": "d50750c4-03c7-4ba8-d60c-d4140ca46303"
      },
      "source": [
        "test_data = returnPredictData(5, 8, train_work_df)\r\n",
        "#test_data = val_work_df[['time', 'distance_traveled', 'ev_id']]\r\n",
        "\r\n",
        "test_data = test_data.iloc[:, 1].values\r\n",
        "\r\n",
        "unscaled_training_data = train_work_df[['time', 'distance_traveled', 'ev_id']]\r\n",
        "unscaled_test_data = returnPredictData(5, 8, train_work_df)\r\n",
        "#unscaled_test_data = val_work_df[['time', 'distance_traveled', 'ev_id']]\r\n",
        "\r\n",
        "all_data = pd.concat((unscaled_training_data['distance_traveled'], unscaled_test_data['distance_traveled']), axis = 0)\r\n",
        "\r\n",
        "\r\n",
        "x_test_data = all_data[len(all_data) - len(test_data) - 40:].values\r\n",
        "\r\n",
        "x_test_data = np.reshape(x_test_data, (-1, 1))\r\n",
        "\r\n",
        "x_test_data = sc.fit_transform(x_test_data)\r\n",
        "\r\n",
        "final_x_test_data = []\r\n",
        " \r\n",
        "for i in range(40, len(x_test_data)):\r\n",
        " \r\n",
        "    final_x_test_data.append(x_test_data[i-1:i, 0])\r\n",
        " \r\n",
        "final_x_test_data = np.array(final_x_test_data)\r\n",
        "\r\n",
        "final_x_test_data = np.reshape(final_x_test_data, (final_x_test_data.shape[0], \r\n",
        " \r\n",
        "                                               final_x_test_data.shape[1], \r\n",
        " \r\n",
        "                                               1))\r\n",
        "predictions = model_nn.predict(final_x_test_data)"
      ],
      "execution_count": null,
      "outputs": [
        {
          "output_type": "stream",
          "text": [
            "WARNING:tensorflow:Model was constructed with shape (None, 100, 1) for input Tensor(\"lstm_12_input:0\", shape=(None, 100, 1), dtype=float32), but it was called on an input with incompatible shape (None, 1, 1).\n"
          ],
          "name": "stdout"
        }
      ]
    },
    {
      "cell_type": "markdown",
      "metadata": {
        "id": "CQQH4_NCfpPh"
      },
      "source": [
        "##Plotting validation vs. predicted"
      ]
    },
    {
      "cell_type": "code",
      "metadata": {
        "colab": {
          "base_uri": "https://localhost:8080/",
          "height": 265
        },
        "id": "gNtZ-c4vc8V_",
        "outputId": "67264c54-bb40-4e7b-d13c-a5c9af9cf738"
      },
      "source": [
        "#nsamples, nx, ny = predictions.shape\r\n",
        "#d2 = predictions.reshape((nsamples,nx*ny))\r\n",
        "unscaled_predictions = sc.inverse_transform(predictions)\r\n",
        "\r\n",
        "nsamples, nx, ny = final_x_test_data.shape\r\n",
        "fd2 = final_x_test_data.reshape((nsamples, nx*ny))\r\n",
        "f_unscaled_predictions = sc.inverse_transform(fd2)\r\n",
        "\r\n",
        "plt.clf() #This clears the first prediction plot from our canvas\r\n",
        " \r\n",
        "plt.plot(unscaled_predictions[:100])\r\n",
        "plt.plot(f_unscaled_predictions[:100], color='red')\r\n",
        " \r\n",
        "plt.show()"
      ],
      "execution_count": null,
      "outputs": [
        {
          "output_type": "display_data",
          "data": {
            "image/png": "[encoded data removed]",
            "text/plain": [
              "<Figure size 432x288 with 1 Axes>"
            ]
          },
          "metadata": {
            "tags": [],
            "needs_background": "light"
          }
        }
      ]
    },
    {
      "cell_type": "code",
      "metadata": {
        "id": "Iud8Cp40w1CQ",
        "colab": {
          "base_uri": "https://localhost:8080/"
        },
        "outputId": "258e4c3d-1c39-4800-cd9d-494428f24620"
      },
      "source": [
        "model_json = model_nn.to_json()\r\n",
        "with open(\"model.json\", \"w\") as json_file:\r\n",
        "    json_file.write(model_json)\r\n",
        "# serialize weights to HDF5\r\n",
        "model_nn.save_weights(\"model.h5\")\r\n",
        "print(\"Saved model to disk\")"
      ],
      "execution_count": null,
      "outputs": [
        {
          "output_type": "stream",
          "text": [
            "Saved model to disk\n"
          ],
          "name": "stdout"
        }
      ]
    },
    {
      "cell_type": "markdown",
      "metadata": {
        "id": "sWHpHjvwAfUq"
      },
      "source": [
        "#Grid Connection Model"
      ]
    },
    {
      "cell_type": "markdown",
      "metadata": {
        "id": "3Ly4Yvzgf6xC"
      },
      "source": [
        "##Dataset additions"
      ]
    },
    {
      "cell_type": "code",
      "metadata": {
        "id": "cKUXxmzZAjuH"
      },
      "source": [
        "driving_behavior = []\n",
        "driving_behavior.append(0)\n",
        "helper = work_df[['soc']].values\n",
        "for x in range(1, len(helper)):\n",
        "  if(helper[x] < helper[x-1]):\n",
        "    driving_behavior.append(1)\n",
        "  else:\n",
        "    driving_behavior.append(0)\n",
        "\n",
        "work_df[['Driving']] = np.where(work_df[\"connected\"], 0, 1) "
      ],
      "execution_count": null,
      "outputs": []
    },
    {
      "cell_type": "code",
      "metadata": {
        "id": "LS11MCbOAes4",
        "colab": {
          "base_uri": "https://localhost:8080/",
          "height": 359
        },
        "outputId": "9dfac34d-0b4d-4bf0-e5ee-c5f97cc2a468"
      },
      "source": [
        "work_df[['soc', 'Driving', \"connected\"]].head(10)"
      ],
      "execution_count": null,
      "outputs": [
        {
          "output_type": "execute_result",
          "data": {
            "text/html": [
              "<div>\n",
              "<style scoped>\n",
              "    .dataframe tbody tr th:only-of-type {\n",
              "        vertical-align: middle;\n",
              "    }\n",
              "\n",
              "    .dataframe tbody tr th {\n",
              "        vertical-align: top;\n",
              "    }\n",
              "\n",
              "    .dataframe thead th {\n",
              "        text-align: right;\n",
              "    }\n",
              "</style>\n",
              "<table border=\"1\" class=\"dataframe\">\n",
              "  <thead>\n",
              "    <tr style=\"text-align: right;\">\n",
              "      <th></th>\n",
              "      <th>soc</th>\n",
              "      <th>Driving</th>\n",
              "      <th>connected</th>\n",
              "    </tr>\n",
              "  </thead>\n",
              "  <tbody>\n",
              "    <tr>\n",
              "      <th>0</th>\n",
              "      <td>36.250000</td>\n",
              "      <td>0</td>\n",
              "      <td>True</td>\n",
              "    </tr>\n",
              "    <tr>\n",
              "      <th>1</th>\n",
              "      <td>42.850000</td>\n",
              "      <td>0</td>\n",
              "      <td>True</td>\n",
              "    </tr>\n",
              "    <tr>\n",
              "      <th>2</th>\n",
              "      <td>49.450000</td>\n",
              "      <td>0</td>\n",
              "      <td>True</td>\n",
              "    </tr>\n",
              "    <tr>\n",
              "      <th>3</th>\n",
              "      <td>56.000000</td>\n",
              "      <td>0</td>\n",
              "      <td>True</td>\n",
              "    </tr>\n",
              "    <tr>\n",
              "      <th>4</th>\n",
              "      <td>56.000000</td>\n",
              "      <td>0</td>\n",
              "      <td>True</td>\n",
              "    </tr>\n",
              "    <tr>\n",
              "      <th>5</th>\n",
              "      <td>56.000000</td>\n",
              "      <td>1</td>\n",
              "      <td>False</td>\n",
              "    </tr>\n",
              "    <tr>\n",
              "      <th>6</th>\n",
              "      <td>47.480729</td>\n",
              "      <td>0</td>\n",
              "      <td>True</td>\n",
              "    </tr>\n",
              "    <tr>\n",
              "      <th>7</th>\n",
              "      <td>54.080729</td>\n",
              "      <td>1</td>\n",
              "      <td>False</td>\n",
              "    </tr>\n",
              "    <tr>\n",
              "      <th>8</th>\n",
              "      <td>49.061419</td>\n",
              "      <td>1</td>\n",
              "      <td>False</td>\n",
              "    </tr>\n",
              "    <tr>\n",
              "      <th>9</th>\n",
              "      <td>48.201419</td>\n",
              "      <td>1</td>\n",
              "      <td>False</td>\n",
              "    </tr>\n",
              "  </tbody>\n",
              "</table>\n",
              "</div>"
            ],
            "text/plain": [
              "         soc  Driving  connected\n",
              "0  36.250000        0       True\n",
              "1  42.850000        0       True\n",
              "2  49.450000        0       True\n",
              "3  56.000000        0       True\n",
              "4  56.000000        0       True\n",
              "5  56.000000        1      False\n",
              "6  47.480729        0       True\n",
              "7  54.080729        1      False\n",
              "8  49.061419        1      False\n",
              "9  48.201419        1      False"
            ]
          },
          "metadata": {
            "tags": []
          },
          "execution_count": 123
        }
      ]
    },
    {
      "cell_type": "markdown",
      "metadata": {
        "id": "8xuSBhaZDmHL"
      },
      "source": [
        "##XGBoost implementation on it's own"
      ]
    },
    {
      "cell_type": "code",
      "metadata": {
        "id": "lBljwQQiM8ZD"
      },
      "source": [
        "train_work_df[['driving']] = np.where(train_work_df[\"connected\"], 0, 1) \n",
        "X = train_work_df[['ev_id', 'time', 'soc', 'distance_traveled']]\n",
        "y = []\n",
        "for elem in train_work_df[[\"driving\"]].values:\n",
        "  y.append(elem[0])\n",
        "\n",
        "X_test = val_work_df[['ev_id', 'time', 'soc', 'distance_traveled']]\n",
        "Y_test = np.where(val_work_df[\"connected\"], 0, 1)"
      ],
      "execution_count": null,
      "outputs": []
    },
    {
      "cell_type": "code",
      "metadata": {
        "id": "xGo59dbpNQLQ"
      },
      "source": [
        "dtrain = xgb.DMatrix(X,label = y)\n",
        "dtest = xgb.DMatrix(X_test, label=Y_test)"
      ],
      "execution_count": null,
      "outputs": []
    },
    {
      "cell_type": "code",
      "metadata": {
        "id": "-w5bA_gJNTqn"
      },
      "source": [
        "param_list = {'max_depth': 6, 'eta': 1, 'objective': 'binary:hinge'}\n",
        "param_list['nthread'] = 4\n",
        "param_list['eval_metric'] = 'auc'"
      ],
      "execution_count": null,
      "outputs": []
    },
    {
      "cell_type": "code",
      "metadata": {
        "id": "08RXnzaaNWSX",
        "colab": {
          "base_uri": "https://localhost:8080/"
        },
        "outputId": "a46d9468-0d1d-4017-c521-803c533d9b08"
      },
      "source": [
        "n_rounds = 600\n",
        "\n",
        "# if nothing seems to improve for 50 iterations - stop\n",
        "early_stopping = 50\n",
        "\n",
        "# train for training and test for ... validation!    \n",
        "eval_list = [(dtrain, 'Train'), (dtest, 'Validation')]\n",
        "\n",
        "# 1,2,3.. go!\n",
        "bst = xgb.train(param_list, dtrain, n_rounds, evals=eval_list, early_stopping_rounds=early_stopping, verbose_eval=True)"
      ],
      "execution_count": null,
      "outputs": [
        {
          "output_type": "stream",
          "text": [
            "[0]\tTrain-auc:0.604249\tValidation-auc:0.601841\n",
            "Multiple eval metrics have been passed: 'Validation-auc' will be used for early stopping.\n",
            "\n",
            "Will train until Validation-auc hasn't improved in 50 rounds.\n",
            "[1]\tTrain-auc:0.657669\tValidation-auc:0.653658\n",
            "[2]\tTrain-auc:0.656548\tValidation-auc:0.653014\n",
            "[3]\tTrain-auc:0.651009\tValidation-auc:0.642484\n",
            "[4]\tTrain-auc:0.644179\tValidation-auc:0.635658\n",
            "[5]\tTrain-auc:0.645108\tValidation-auc:0.636427\n",
            "[6]\tTrain-auc:0.643658\tValidation-auc:0.635523\n",
            "[7]\tTrain-auc:0.645136\tValidation-auc:0.637017\n",
            "[8]\tTrain-auc:0.645751\tValidation-auc:0.637267\n",
            "[9]\tTrain-auc:0.645785\tValidation-auc:0.63767\n",
            "[10]\tTrain-auc:0.647894\tValidation-auc:0.638582\n",
            "[11]\tTrain-auc:0.64759\tValidation-auc:0.638582\n",
            "[12]\tTrain-auc:0.648091\tValidation-auc:0.637723\n",
            "[13]\tTrain-auc:0.651489\tValidation-auc:0.640585\n",
            "[14]\tTrain-auc:0.651273\tValidation-auc:0.639789\n",
            "[15]\tTrain-auc:0.653914\tValidation-auc:0.641023\n",
            "[16]\tTrain-auc:0.657221\tValidation-auc:0.64351\n",
            "[17]\tTrain-auc:0.657848\tValidation-auc:0.643072\n",
            "[18]\tTrain-auc:0.659038\tValidation-auc:0.643769\n",
            "[19]\tTrain-auc:0.660118\tValidation-auc:0.6441\n",
            "[20]\tTrain-auc:0.660905\tValidation-auc:0.646247\n",
            "[21]\tTrain-auc:0.668666\tValidation-auc:0.65198\n",
            "[22]\tTrain-auc:0.670981\tValidation-auc:0.652293\n",
            "[23]\tTrain-auc:0.670063\tValidation-auc:0.651434\n",
            "[24]\tTrain-auc:0.669657\tValidation-auc:0.651971\n",
            "[25]\tTrain-auc:0.676962\tValidation-auc:0.655209\n",
            "[26]\tTrain-auc:0.675039\tValidation-auc:0.651407\n",
            "[27]\tTrain-auc:0.677022\tValidation-auc:0.652812\n",
            "[28]\tTrain-auc:0.675247\tValidation-auc:0.649771\n",
            "[29]\tTrain-auc:0.679998\tValidation-auc:0.652508\n",
            "[30]\tTrain-auc:0.678903\tValidation-auc:0.649314\n",
            "[31]\tTrain-auc:0.68402\tValidation-auc:0.654529\n",
            "[32]\tTrain-auc:0.682802\tValidation-auc:0.652257\n",
            "[33]\tTrain-auc:0.687311\tValidation-auc:0.656005\n",
            "[34]\tTrain-auc:0.690923\tValidation-auc:0.659279\n",
            "[35]\tTrain-auc:0.692292\tValidation-auc:0.65834\n",
            "[36]\tTrain-auc:0.689806\tValidation-auc:0.656801\n",
            "[37]\tTrain-auc:0.693681\tValidation-auc:0.658089\n",
            "[38]\tTrain-auc:0.693997\tValidation-auc:0.658008\n",
            "[39]\tTrain-auc:0.69673\tValidation-auc:0.662445\n",
            "[40]\tTrain-auc:0.701054\tValidation-auc:0.664619\n",
            "[41]\tTrain-auc:0.702133\tValidation-auc:0.664976\n",
            "[42]\tTrain-auc:0.702064\tValidation-auc:0.666783\n",
            "[43]\tTrain-auc:0.703245\tValidation-auc:0.668277\n",
            "[44]\tTrain-auc:0.706128\tValidation-auc:0.668411\n",
            "[45]\tTrain-auc:0.705125\tValidation-auc:0.666926\n",
            "[46]\tTrain-auc:0.706975\tValidation-auc:0.667678\n",
            "[47]\tTrain-auc:0.70602\tValidation-auc:0.666255\n",
            "[48]\tTrain-auc:0.709313\tValidation-auc:0.669359\n",
            "[49]\tTrain-auc:0.709772\tValidation-auc:0.66994\n",
            "[50]\tTrain-auc:0.710303\tValidation-auc:0.670862\n",
            "[51]\tTrain-auc:0.712118\tValidation-auc:0.671747\n",
            "[52]\tTrain-auc:0.712272\tValidation-auc:0.671175\n",
            "[53]\tTrain-auc:0.712358\tValidation-auc:0.672185\n",
            "[54]\tTrain-auc:0.712642\tValidation-auc:0.672597\n",
            "[55]\tTrain-auc:0.713144\tValidation-auc:0.670862\n",
            "[56]\tTrain-auc:0.714246\tValidation-auc:0.671318\n",
            "[57]\tTrain-auc:0.715922\tValidation-auc:0.674395\n",
            "[58]\tTrain-auc:0.716583\tValidation-auc:0.673089\n",
            "[59]\tTrain-auc:0.717569\tValidation-auc:0.673304\n",
            "[60]\tTrain-auc:0.718462\tValidation-auc:0.675066\n",
            "[61]\tTrain-auc:0.717964\tValidation-auc:0.674296\n",
            "[62]\tTrain-auc:0.719201\tValidation-auc:0.675522\n",
            "[63]\tTrain-auc:0.719101\tValidation-auc:0.675182\n",
            "[64]\tTrain-auc:0.720577\tValidation-auc:0.675289\n",
            "[65]\tTrain-auc:0.720336\tValidation-auc:0.676085\n",
            "[66]\tTrain-auc:0.720564\tValidation-auc:0.677015\n",
            "[67]\tTrain-auc:0.720547\tValidation-auc:0.676738\n",
            "[68]\tTrain-auc:0.721081\tValidation-auc:0.677856\n",
            "[69]\tTrain-auc:0.722342\tValidation-auc:0.676908\n",
            "[70]\tTrain-auc:0.722419\tValidation-auc:0.678277\n",
            "[71]\tTrain-auc:0.722553\tValidation-auc:0.678715\n",
            "[72]\tTrain-auc:0.723105\tValidation-auc:0.677659\n",
            "[73]\tTrain-auc:0.722847\tValidation-auc:0.677436\n",
            "[74]\tTrain-auc:0.724182\tValidation-auc:0.677311\n",
            "[75]\tTrain-auc:0.724863\tValidation-auc:0.677642\n",
            "[76]\tTrain-auc:0.724652\tValidation-auc:0.675826\n",
            "[77]\tTrain-auc:0.725263\tValidation-auc:0.676309\n",
            "[78]\tTrain-auc:0.726371\tValidation-auc:0.676541\n",
            "[79]\tTrain-auc:0.725573\tValidation-auc:0.675486\n",
            "[80]\tTrain-auc:0.726736\tValidation-auc:0.674896\n",
            "[81]\tTrain-auc:0.727052\tValidation-auc:0.675128\n",
            "[82]\tTrain-auc:0.729093\tValidation-auc:0.675924\n",
            "[83]\tTrain-auc:0.729473\tValidation-auc:0.676738\n",
            "[84]\tTrain-auc:0.730695\tValidation-auc:0.678178\n",
            "[85]\tTrain-auc:0.731362\tValidation-auc:0.6774\n",
            "[86]\tTrain-auc:0.731649\tValidation-auc:0.678599\n",
            "[87]\tTrain-auc:0.731795\tValidation-auc:0.678545\n",
            "[88]\tTrain-auc:0.732739\tValidation-auc:0.678035\n",
            "[89]\tTrain-auc:0.732558\tValidation-auc:0.678715\n",
            "[90]\tTrain-auc:0.734297\tValidation-auc:0.678921\n",
            "[91]\tTrain-auc:0.735294\tValidation-auc:0.679789\n",
            "[92]\tTrain-auc:0.7365\tValidation-auc:0.680647\n",
            "[93]\tTrain-auc:0.736676\tValidation-auc:0.679637\n",
            "[94]\tTrain-auc:0.737524\tValidation-auc:0.679476\n",
            "[95]\tTrain-auc:0.737209\tValidation-auc:0.678456\n",
            "[96]\tTrain-auc:0.738108\tValidation-auc:0.678805\n",
            "[97]\tTrain-auc:0.738302\tValidation-auc:0.677785\n",
            "[98]\tTrain-auc:0.738437\tValidation-auc:0.677767\n",
            "[99]\tTrain-auc:0.739497\tValidation-auc:0.678107\n",
            "[100]\tTrain-auc:0.740231\tValidation-auc:0.678286\n",
            "[101]\tTrain-auc:0.74051\tValidation-auc:0.678394\n",
            "[102]\tTrain-auc:0.741092\tValidation-auc:0.678286\n",
            "[103]\tTrain-auc:0.741151\tValidation-auc:0.678188\n",
            "[104]\tTrain-auc:0.741387\tValidation-auc:0.678564\n",
            "[105]\tTrain-auc:0.741446\tValidation-auc:0.679252\n",
            "[106]\tTrain-auc:0.741534\tValidation-auc:0.677446\n",
            "[107]\tTrain-auc:0.741955\tValidation-auc:0.677902\n",
            "[108]\tTrain-auc:0.742351\tValidation-auc:0.677803\n",
            "[109]\tTrain-auc:0.742226\tValidation-auc:0.678286\n",
            "[110]\tTrain-auc:0.742547\tValidation-auc:0.677624\n",
            "[111]\tTrain-auc:0.742272\tValidation-auc:0.677365\n",
            "[112]\tTrain-auc:0.742875\tValidation-auc:0.678116\n",
            "[113]\tTrain-auc:0.743601\tValidation-auc:0.677132\n",
            "[114]\tTrain-auc:0.744144\tValidation-auc:0.677374\n",
            "[115]\tTrain-auc:0.744411\tValidation-auc:0.677875\n",
            "[116]\tTrain-auc:0.743771\tValidation-auc:0.677508\n",
            "[117]\tTrain-auc:0.745342\tValidation-auc:0.677785\n",
            "[118]\tTrain-auc:0.7455\tValidation-auc:0.678841\n",
            "[119]\tTrain-auc:0.745904\tValidation-auc:0.67775\n",
            "[120]\tTrain-auc:0.746173\tValidation-auc:0.677106\n",
            "[121]\tTrain-auc:0.746294\tValidation-auc:0.677168\n",
            "[122]\tTrain-auc:0.747131\tValidation-auc:0.678555\n",
            "[123]\tTrain-auc:0.747825\tValidation-auc:0.679735\n",
            "[124]\tTrain-auc:0.747754\tValidation-auc:0.67969\n",
            "[125]\tTrain-auc:0.748118\tValidation-auc:0.679422\n",
            "[126]\tTrain-auc:0.74785\tValidation-auc:0.67783\n",
            "[127]\tTrain-auc:0.748751\tValidation-auc:0.679252\n",
            "[128]\tTrain-auc:0.74897\tValidation-auc:0.679288\n",
            "[129]\tTrain-auc:0.749436\tValidation-auc:0.678036\n",
            "[130]\tTrain-auc:0.749514\tValidation-auc:0.679592\n",
            "[131]\tTrain-auc:0.749581\tValidation-auc:0.680281\n",
            "[132]\tTrain-auc:0.74965\tValidation-auc:0.6791\n",
            "[133]\tTrain-auc:0.749703\tValidation-auc:0.680093\n",
            "[134]\tTrain-auc:0.750385\tValidation-auc:0.677857\n",
            "[135]\tTrain-auc:0.750096\tValidation-auc:0.677589\n",
            "[136]\tTrain-auc:0.751286\tValidation-auc:0.679118\n",
            "[137]\tTrain-auc:0.752417\tValidation-auc:0.679646\n",
            "[138]\tTrain-auc:0.751454\tValidation-auc:0.678206\n",
            "[139]\tTrain-auc:0.751881\tValidation-auc:0.677347\n",
            "[140]\tTrain-auc:0.752716\tValidation-auc:0.676811\n",
            "[141]\tTrain-auc:0.752629\tValidation-auc:0.676864\n",
            "[142]\tTrain-auc:0.753064\tValidation-auc:0.67741\n",
            "Stopping. Best iteration:\n",
            "[92]\tTrain-auc:0.7365\tValidation-auc:0.680647\n",
            "\n"
          ],
          "name": "stdout"
        }
      ]
    },
    {
      "cell_type": "markdown",
      "metadata": {
        "id": "FS_6Ni72gJQk"
      },
      "source": [
        "##Feature importance in XGBoost"
      ]
    },
    {
      "cell_type": "code",
      "metadata": {
        "id": "tNXuU4aoNZze",
        "colab": {
          "base_uri": "https://localhost:8080/",
          "height": 312
        },
        "outputId": "5173a61a-e96a-40bd-8b40-0088bfaf0921"
      },
      "source": [
        "from sklearn.metrics import precision_score\n",
        "ypred = bst.predict(dtest, ntree_limit=bst.best_ntree_limit)\n",
        "xgb.plot_importance(bst)\n",
        "precision_score(Y_test, ypred, average='macro')"
      ],
      "execution_count": null,
      "outputs": [
        {
          "output_type": "execute_result",
          "data": {
            "text/plain": [
              "0.6931035133501782"
            ]
          },
          "metadata": {
            "tags": []
          },
          "execution_count": 128
        },
        {
          "output_type": "display_data",
          "data": {
            "image/png": "[encoded data removed]",
            "text/plain": [
              "<Figure size 432x288 with 1 Axes>"
            ]
          },
          "metadata": {
            "tags": [],
            "needs_background": "light"
          }
        }
      ]
    },
    {
      "cell_type": "code",
      "metadata": {
        "id": "aHvXhcD0SGL-"
      },
      "source": [
        "mat = xgb.DMatrix(X ,label = y)"
      ],
      "execution_count": null,
      "outputs": []
    },
    {
      "cell_type": "markdown",
      "metadata": {
        "id": "el126G9b6ohi"
      },
      "source": [
        "##XGClassifier for VotingClassifier"
      ]
    },
    {
      "cell_type": "code",
      "metadata": {
        "id": "n2zxq-f26q63",
        "colab": {
          "base_uri": "https://localhost:8080/"
        },
        "outputId": "b06f52e1-42f8-4548-d2f4-867ce58fb855"
      },
      "source": [
        "from xgboost import XGBClassifier\r\n",
        "xgb = XGBClassifier()\r\n",
        "xgb.fit(X, y)\r\n",
        "y_val_pred = xgb.predict_proba(X_test)\r\n",
        "xgb.score(X_test, Y_test)"
      ],
      "execution_count": null,
      "outputs": [
        {
          "output_type": "execute_result",
          "data": {
            "text/plain": [
              "0.6909027777777778"
            ]
          },
          "metadata": {
            "tags": []
          },
          "execution_count": 130
        }
      ]
    },
    {
      "cell_type": "markdown",
      "metadata": {
        "id": "GV78BtuSggjh"
      },
      "source": [
        "##RandomForestClassifier"
      ]
    },
    {
      "cell_type": "code",
      "metadata": {
        "id": "zY3zWeyJQBbA",
        "colab": {
          "base_uri": "https://localhost:8080/"
        },
        "outputId": "2e98ea65-6bfe-4b67-bc48-130e27aed9d1"
      },
      "source": [
        "from sklearn.ensemble import RandomForestClassifier\n",
        "from sklearn.datasets import make_classification\n",
        "X, y = make_classification(n_samples=5000, n_features=4,\n",
        "                          n_informative=4, n_redundant=0,\n",
        "                          random_state=0, shuffle=True)\n",
        "\n",
        "clf = RandomForestClassifier(max_depth=5, random_state=0)\n",
        "clf.fit(X, y)\n",
        "prediction = clf.predict(X_test)\n",
        "print(accuracy_score(prediction, Y_test))\n",
        "\n",
        "\n",
        "pred_positive = sum(sum([prediction == Y_test]))\n",
        "print(f'Actual classes of points predicted positive: {pred_positive}')\n",
        "\n",
        "pred_negative = sum(sum([prediction != Y_test]))\n",
        "print(f'Actual classes of points predicted negative: {pred_negative}')"
      ],
      "execution_count": null,
      "outputs": [
        {
          "output_type": "stream",
          "text": [
            "0.3520138888888889\n",
            "Actual classes of points predicted positive: 5069\n",
            "Actual classes of points predicted negative: 9331\n"
          ],
          "name": "stdout"
        }
      ]
    },
    {
      "cell_type": "markdown",
      "metadata": {
        "id": "djosqYRmgY4G"
      },
      "source": [
        "##Plotting RandomForestClassifier results"
      ]
    },
    {
      "cell_type": "code",
      "metadata": {
        "id": "enG8zFXB1hYS",
        "colab": {
          "base_uri": "https://localhost:8080/",
          "height": 265
        },
        "outputId": "1dd5a12f-f5e9-4ac9-a695-b927e6e12e91"
      },
      "source": [
        "plt.plot(prediction[:50], color='blue')\r\n",
        "plt.plot(Y_test[:50], color='red')\r\n",
        "plt.show()"
      ],
      "execution_count": null,
      "outputs": [
        {
          "output_type": "display_data",
          "data": {
            "image/png": "[encoded data removed]",
            "text/plain": [
              "<Figure size 432x288 with 1 Axes>"
            ]
          },
          "metadata": {
            "tags": [],
            "needs_background": "light"
          }
        }
      ]
    },
    {
      "cell_type": "markdown",
      "metadata": {
        "id": "9bzCDvCwgbum"
      },
      "source": [
        "##GaussianNB model"
      ]
    },
    {
      "cell_type": "code",
      "metadata": {
        "id": "fYuMLJl23kxz",
        "colab": {
          "base_uri": "https://localhost:8080/"
        },
        "outputId": "e0ca0c91-6274-45d0-8321-7077a6d221e3"
      },
      "source": [
        "from sklearn.naive_bayes import GaussianNB\r\n",
        "from sklearn.datasets import make_classification\r\n",
        "\r\n",
        "X = train_work_df[['ev_id', 'time', 'soc', 'distance_traveled']]\r\n",
        "y = []\r\n",
        "for elem in train_work_df[[\"driving\"]].values:\r\n",
        "  y.append(elem[0])\r\n",
        "X_test = val_work_df[['ev_id', 'time', 'soc', 'distance_traveled']]\r\n",
        "Y_test = np.where(val_work_df[\"connected\"], 0, 1)\r\n",
        "gnb = GaussianNB()\r\n",
        "gnb.fit(X, y)\r\n",
        "gnb.predict(X_test)\r\n",
        "gnb.score(X_test, Y_test)"
      ],
      "execution_count": null,
      "outputs": [
        {
          "output_type": "execute_result",
          "data": {
            "text/plain": [
              "0.6477777777777778"
            ]
          },
          "metadata": {
            "tags": []
          },
          "execution_count": 133
        }
      ]
    },
    {
      "cell_type": "markdown",
      "metadata": {
        "id": "jpYaW2KKgn5r"
      },
      "source": [
        "##VotingClassifier"
      ]
    },
    {
      "cell_type": "code",
      "metadata": {
        "id": "Bqoq0j-M51me",
        "colab": {
          "base_uri": "https://localhost:8080/"
        },
        "outputId": "ff5b994f-3ea3-4d6c-bdf9-31f98100e2dc"
      },
      "source": [
        "from sklearn.ensemble import VotingClassifier\r\n",
        "eclf1 = VotingClassifier(estimators=[('rf', clf), ('gaussian', gnb), ('xgb', xgb)], voting='hard', weights=[1,1,2])\r\n",
        "eclf1 = eclf1.fit(X, y)\r\n",
        "print(eclf1.predict(X_test))\r\n",
        "eclf1.score(X_test, Y_test)"
      ],
      "execution_count": null,
      "outputs": [
        {
          "output_type": "stream",
          "text": [
            "[0 0 0 ... 0 0 0]\n"
          ],
          "name": "stdout"
        },
        {
          "output_type": "execute_result",
          "data": {
            "text/plain": [
              "0.6899305555555556"
            ]
          },
          "metadata": {
            "tags": []
          },
          "execution_count": 134
        }
      ]
    }
  ]
}